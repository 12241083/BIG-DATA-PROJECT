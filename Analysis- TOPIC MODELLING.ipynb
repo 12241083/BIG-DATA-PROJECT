{
 "cells": [
  {
   "cell_type": "markdown",
   "metadata": {},
   "source": [
    "## IMPORT MODULES"
   ]
  },
  {
   "cell_type": "code",
   "execution_count": 1,
   "metadata": {},
   "outputs": [
    {
     "name": "stderr",
     "output_type": "stream",
     "text": [
      "C:\\Users\\Camilla\\Documents\\Nuova cartella\\lib\\site-packages\\smart_open\\ssh.py:34: UserWarning: paramiko missing, opening SSH/SCP/SFTP paths will be disabled.  `pip install paramiko` to suppress\n",
      "  warnings.warn('paramiko missing, opening SSH/SCP/SFTP paths will be disabled.  `pip install paramiko` to suppress')\n",
      "C:\\Users\\Camilla\\Documents\\Nuova cartella\\lib\\site-packages\\gensim\\utils.py:1197: UserWarning: detected Windows; aliasing chunkize to chunkize_serial\n",
      "  warnings.warn(\"detected Windows; aliasing chunkize to chunkize_serial\")\n",
      "[nltk_data] Downloading package punkt to\n",
      "[nltk_data]     C:\\Users\\Camilla\\AppData\\Roaming\\nltk_data...\n",
      "[nltk_data]   Package punkt is already up-to-date!\n",
      "[nltk_data] Downloading package averaged_perceptron_tagger to\n",
      "[nltk_data]     C:\\Users\\Camilla\\AppData\\Roaming\\nltk_data...\n",
      "[nltk_data]   Package averaged_perceptron_tagger is already up-to-\n",
      "[nltk_data]       date!\n"
     ]
    }
   ],
   "source": [
    "import nltk\n",
    "from nltk.corpus import stopwords\n",
    "from glob import glob\n",
    "import gensim    \n",
    "from gensim import corpora, models, similarities\n",
    "import pyLDAvis\n",
    "import pyLDAvis.gensim\n",
    "import csv\n",
    "import pandas as pd\n",
    "import matplotlib.pyplot as plt\n",
    "import seaborn as sns\n",
    "import nltk\n",
    "nltk.download('punkt')\n",
    "import nltk\n",
    "nltk.download('averaged_perceptron_tagger')\n",
    "from random import sample\n",
    "import numpy as np\n",
    "import random\n",
    "import logging\n",
    "logging.basicConfig(format='%(asctime)s : %(levelname)s : %(message)s', level=logging.INFO)\n",
    "import warnings\n",
    "warnings.filterwarnings(\"ignore\")"
   ]
  },
  {
   "cell_type": "markdown",
   "metadata": {},
   "source": [
    "## TOPIC MODELLING"
   ]
  },
  {
   "cell_type": "markdown",
   "metadata": {},
   "source": [
    "### Importing the Data from a CSV file"
   ]
  },
  {
   "cell_type": "code",
   "execution_count": 2,
   "metadata": {
    "scrolled": false
   },
   "outputs": [],
   "source": [
    "topicmodelling= []\n",
    "with open(\"C:/Users/Camilla/Desktop/BigData/HEllo.csv\",mode=\"r\", encoding= \"utf-8\", newline=\"\") as fi:\n",
    "    cavolo = csv.reader(fi)\n",
    "    for row in cavolo:\n",
    "        if len(row) == 2: #here I am skipping some part of the data because when I have tried to save the scraped file it duplicated some parts\n",
    "            topicmodelling.append(row[1])"
   ]
  },
  {
   "cell_type": "code",
   "execution_count": 3,
   "metadata": {},
   "outputs": [
    {
     "data": {
      "text/plain": [
       "123"
      ]
     },
     "execution_count": 3,
     "metadata": {},
     "output_type": "execute_result"
    }
   ],
   "source": [
    "len(topicmodelling) #checking the length to see if it corresponds to the number of articles scraped"
   ]
  },
  {
   "cell_type": "markdown",
   "metadata": {},
   "source": [
    "### Cleaning the Data"
   ]
  },
  {
   "cell_type": "code",
   "execution_count": 5,
   "metadata": {},
   "outputs": [],
   "source": [
    "punctuation = [\":\", \",\", \".\", \":\", \"?\",\"!\"] "
   ]
  },
  {
   "cell_type": "code",
   "execution_count": 6,
   "metadata": {},
   "outputs": [],
   "source": [
    "ubi =[\"\".join([l for l in one if l not in punctuation]) for one in topicmodelling]  #remove punctuation\n",
    "ubi=[one.lower() for one in ubi]  # convert to lower case\n",
    "ubi=[\" \".join(one.split()) for one in ubi] \n",
    "ubi =[one.replace(\"\\\\xa0\", \"\").replace(\"\\'\", \"\").replace(\"—\", \"\"). replace(\"=\", \"\").replace ('”', \"\").replace(\"“\", \"\") for one in ubi] #replacing those that are simbols for space"
   ]
  },
  {
   "cell_type": "code",
   "execution_count": 7,
   "metadata": {},
   "outputs": [
    {
     "data": {
      "text/plain": [
       "123"
      ]
     },
     "execution_count": 7,
     "metadata": {},
     "output_type": "execute_result"
    }
   ],
   "source": [
    "len(ubi) #checking the lenght to be sure nothing as changed"
   ]
  },
  {
   "cell_type": "code",
   "execution_count": 8,
   "metadata": {},
   "outputs": [
    {
     "data": {
      "text/plain": [
       "'[  the website  revista  libertalia  recently published an article in spanish with extensive quotes from an interview conducted with me the article is entitled  voces sobre la renta básica (ii) ¿está justificada  [voices on basic income (ii) is it justified] it’s author is pablo magaña the spanish version was published on february 28 2019 the author created but did not publish an english version of the article the quotes below reproduce the entire english version with no additional editing   voi'"
      ]
     },
     "execution_count": 8,
     "metadata": {},
     "output_type": "execute_result"
    }
   ],
   "source": [
    "ubi[0][:500] #Checking how the first item look"
   ]
  },
  {
   "cell_type": "markdown",
   "metadata": {},
   "source": [
    "## Inserting stopwords removal"
   ]
  },
  {
   "cell_type": "code",
   "execution_count": 9,
   "metadata": {},
   "outputs": [],
   "source": [
    "stopwords=stopwords.words(\"english\") #WARNING: for some reason this doesn't work some time, no clue why. In that case, you just need to re-run the first cell where I import the stopword thing and then "
   ]
  },
  {
   "cell_type": "code",
   "execution_count": 10,
   "metadata": {},
   "outputs": [],
   "source": [
    "ubi_clean = [\" \".join([w for w in one.split() if w not in stopwords]) for one in ubi]\n"
   ]
  },
  {
   "cell_type": "code",
   "execution_count": 11,
   "metadata": {},
   "outputs": [
    {
     "data": {
      "text/plain": [
       "'[ website revista libertalia recently published article spanish extensive quotes interview conducted article entitled voces sobre la renta básica (ii) ¿está justificada [voices basic income (ii) justified] it’s author pablo magaña spanish version published february 28 2019 author created publish english version article quotes reproduce entire english version additional editing voices basic income (ii) justified idea basic income raises many hopes eyebrows article defenders explain us view best w'"
      ]
     },
     "execution_count": 11,
     "metadata": {},
     "output_type": "execute_result"
    }
   ],
   "source": [
    "ubi_clean[0][:500]"
   ]
  },
  {
   "cell_type": "markdown",
   "metadata": {},
   "source": [
    "## Stemming"
   ]
  },
  {
   "cell_type": "code",
   "execution_count": 12,
   "metadata": {},
   "outputs": [
    {
     "data": {
      "text/plain": [
       "'[ websit revista libertalia recent publish articl spanish extens quot interview conduct articl entitl voce sobr la renta básica (ii) ¿está justificada [voic basic incom (ii) justified] it author pablo magaña spanish version publish februari 28 2019 author creat publish english version articl quot reproduc entir english version addit edit voic basic incom (ii) justifi idea basic incom rais mani hope eyebrow articl defend explain us view best way justifi howev order make discuss interest also ask '"
      ]
     },
     "execution_count": 12,
     "metadata": {},
     "output_type": "execute_result"
    }
   ],
   "source": [
    "stemmer = nltk.stem.snowball.EnglishStemmer()\n",
    "ubi_stemmed = [\" \".join([stemmer.stem(word) for word in one.split()]) for one in ubi_clean]\n",
    "ubi_stemmed[0][:500]"
   ]
  },
  {
   "cell_type": "markdown",
   "metadata": {},
   "source": [
    "## Nouns and Adjectives\n",
    "\n",
    "I previuosly did that removing everthing that was not a name or an adjective, but I don't think it would have improved at all the model and instead it would take away many information I could be interested in.\n"
   ]
  },
  {
   "cell_type": "markdown",
   "metadata": {},
   "source": [
    "## Bi-grams"
   ]
  },
  {
   "cell_type": "code",
   "execution_count": 13,
   "metadata": {},
   "outputs": [],
   "source": [
    "ubi_bigrams = [[\"_\".join(tup) for tup in nltk.ngrams(one.split(),2)] for one in ubi_stemmed]\n",
    "assert len(ubi_stemmed)==len(ubi_bigrams)\n",
    "ubi_uniandbigrams = []\n",
    "for a,b in zip([one.split() for one in ubi_stemmed], ubi_bigrams):\n",
    "    ubi_uniandbigrams.append(a + b)\n"
   ]
  },
  {
   "cell_type": "code",
   "execution_count": 14,
   "metadata": {},
   "outputs": [
    {
     "data": {
      "text/plain": [
       "['[',\n",
       " 'websit',\n",
       " 'revista',\n",
       " 'libertalia',\n",
       " 'recent',\n",
       " 'publish',\n",
       " 'articl',\n",
       " 'spanish',\n",
       " 'extens',\n",
       " 'quot']"
      ]
     },
     "execution_count": 14,
     "metadata": {},
     "output_type": "execute_result"
    }
   ],
   "source": [
    "ubi_uniandbigrams[0][:10]"
   ]
  },
  {
   "cell_type": "markdown",
   "metadata": {},
   "source": [
    "## LDA\n"
   ]
  },
  {
   "cell_type": "markdown",
   "metadata": {},
   "source": [
    "###  Without Filtering the Extremes"
   ]
  },
  {
   "cell_type": "code",
   "execution_count": 19,
   "metadata": {},
   "outputs": [
    {
     "name": "stderr",
     "output_type": "stream",
     "text": [
      "2019-05-27 12:11:12,277 : INFO : adding document #0 to Dictionary(0 unique tokens: [])\n",
      "2019-05-27 12:11:12,787 : INFO : built Dictionary(69555 unique tokens: ['\"the', '\"the_indepentarian\"', '&', '&_public', '(1988)']...) from 123 documents (total 195431 corpus positions)\n",
      "2019-05-27 12:11:13,115 : INFO : collecting document frequencies\n",
      "2019-05-27 12:11:13,116 : INFO : PROGRESS: processing document #0\n",
      "2019-05-27 12:11:13,215 : INFO : calculating IDF weights for 123 documents and 69554 features (137674 matrix non-zeros)\n",
      "2019-05-27 12:11:13,729 : INFO : using symmetric alpha at 0.1\n",
      "2019-05-27 12:11:13,730 : INFO : using symmetric eta at 0.1\n",
      "2019-05-27 12:11:13,761 : INFO : using serial LDA version on this node\n",
      "2019-05-27 12:11:13,977 : INFO : running online (single-pass) LDA training, 10 topics, 1 passes over the supplied corpus of 123 documents, updating model once every 123 documents, evaluating perplexity every 123 documents, iterating 50x with a convergence threshold of 0.001000\n",
      "2019-05-27 12:11:13,979 : WARNING : too few updates, training might not converge; consider increasing the number of passes or iterations to improve accuracy\n",
      "2019-05-27 12:11:17,129 : INFO : -275.238 per-word bound, 71595022315028837248290545405421537643156609801655372843069419089667831852490031104.0 perplexity estimate based on a held-out corpus of 123 documents with 2949 words\n",
      "2019-05-27 12:11:17,130 : INFO : PROGRESS: pass 0, at document #123/123\n",
      "2019-05-27 12:11:17,886 : INFO : topic #3 (0.100): 0.000*\"lewi\" + 0.000*\"michael_lewi\" + 0.000*\"sexual\" + 0.000*\"michael\" + 0.000*\"piketti\" + 0.000*\"non-product\" + 0.000*\"comput\" + 0.000*\"nit\" + 0.000*\"nonspecialist\" + 0.000*\"bott\"\n",
      "2019-05-27 12:11:17,889 : INFO : topic #4 (0.100): 0.000*\"toy\" + 0.000*\"oil\" + 0.000*\"tax\" + 0.000*\"properti\" + 0.000*\"widerquist\" + 0.000*\"bill\" + 0.000*\"alaska\" + 0.000*\"reduc_total\" + 0.000*\"total_number\" + 0.000*\"number_job\"\n",
      "2019-05-27 12:11:17,892 : INFO : topic #8 (0.100): 0.000*\"apf\" + 0.000*\"bi\" + 0.000*\"oil\" + 0.000*\"hammond\" + 0.000*\"alaska\" + 0.000*\"fund\" + 0.000*\"properti\" + 0.000*\"dividend\" + 0.000*\"experi\" + 0.000*\"js\"\n",
      "2019-05-27 12:11:17,895 : INFO : topic #7 (0.100): 0.000*\"experi\" + 0.000*\"big\" + 0.000*\"1998\" + 0.000*\"sheahen\" + 0.000*\"chronogram\" + 0.000*\"kela\" + 0.000*\"conspiraci\" + 0.000*\"introduct_big\" + 0.000*\"particip\" + 0.000*\"nit\"\n",
      "2019-05-27 12:11:17,898 : INFO : topic #0 (0.100): 0.000*\"experi\" + 0.000*\"count\" + 0.000*\"suplici\" + 0.000*\"mongolia\" + 0.000*\"confer\" + 0.000*\"senat_suplici\" + 0.000*\"tba\" + 0.000*\"mongolian\" + 0.000*\"particip\" + 0.000*\"august\"\n",
      "2019-05-27 12:11:17,908 : INFO : topic diff=7.245370, rho=1.000000\n",
      "2019-05-27 12:11:17,942 : INFO : topic #0 (0.100): 0.000*\"experi\" + 0.000*\"count\" + 0.000*\"suplici\" + 0.000*\"mongolia\" + 0.000*\"confer\" + 0.000*\"senat_suplici\"\n",
      "2019-05-27 12:11:17,945 : INFO : topic #1 (0.100): 0.000*\"prison\" + 0.000*\"hugh\" + 0.000*\"spend\" + 0.000*\"bower\" + 0.000*\"budget\" + 0.000*\"gi\"\n",
      "2019-05-27 12:11:17,949 : INFO : topic #2 (0.100): 0.000*\"chronogram\" + 0.000*\"bike\" + 0.000*\"2018_particip\" + 0.000*\"1999\" + 0.000*\"oil\" + 0.000*\"counter-wav\"\n",
      "2019-05-27 12:11:17,954 : INFO : topic #3 (0.100): 0.000*\"lewi\" + 0.000*\"michael_lewi\" + 0.000*\"sexual\" + 0.000*\"michael\" + 0.000*\"piketti\" + 0.000*\"non-product\"\n",
      "2019-05-27 12:11:17,957 : INFO : topic #4 (0.100): 0.000*\"toy\" + 0.000*\"oil\" + 0.000*\"tax\" + 0.000*\"properti\" + 0.000*\"widerquist\" + 0.000*\"bill\"\n",
      "2019-05-27 12:11:17,960 : INFO : topic #5 (0.100): 0.000*\"brain\" + 0.000*\"bi\" + 0.000*\"experi\" + 0.000*\"labor\" + 0.000*\"vision\" + 0.000*\"human\"\n",
      "2019-05-27 12:11:17,962 : INFO : topic #6 (0.100): 0.000*\"sale_tax\" + 0.000*\"sale\" + 0.000*\"purpos_mean\" + 0.000*\"claim_ubi\" + 0.000*\"tax\" + 0.000*\"social_connect\"\n",
      "2019-05-27 12:11:17,965 : INFO : topic #7 (0.100): 0.000*\"experi\" + 0.000*\"big\" + 0.000*\"1998\" + 0.000*\"sheahen\" + 0.000*\"chronogram\" + 0.000*\"kela\"\n",
      "2019-05-27 12:11:17,968 : INFO : topic #8 (0.100): 0.000*\"apf\" + 0.000*\"bi\" + 0.000*\"oil\" + 0.000*\"hammond\" + 0.000*\"alaska\" + 0.000*\"fund\"\n",
      "2019-05-27 12:11:17,970 : INFO : topic #9 (0.100): 0.000*\"$10000\" + 0.000*\"definit\" + 0.000*\"net_incom\" + 0.000*\"dividend\" + 0.000*\"justic\" + 0.000*\"jpa\"\n"
     ]
    },
    {
     "data": {
      "text/plain": [
       "[(0,\n",
       "  '0.000*\"experi\" + 0.000*\"count\" + 0.000*\"suplici\" + 0.000*\"mongolia\" + 0.000*\"confer\" + 0.000*\"senat_suplici\"'),\n",
       " (1,\n",
       "  '0.000*\"prison\" + 0.000*\"hugh\" + 0.000*\"spend\" + 0.000*\"bower\" + 0.000*\"budget\" + 0.000*\"gi\"'),\n",
       " (2,\n",
       "  '0.000*\"chronogram\" + 0.000*\"bike\" + 0.000*\"2018_particip\" + 0.000*\"1999\" + 0.000*\"oil\" + 0.000*\"counter-wav\"'),\n",
       " (3,\n",
       "  '0.000*\"lewi\" + 0.000*\"michael_lewi\" + 0.000*\"sexual\" + 0.000*\"michael\" + 0.000*\"piketti\" + 0.000*\"non-product\"'),\n",
       " (4,\n",
       "  '0.000*\"toy\" + 0.000*\"oil\" + 0.000*\"tax\" + 0.000*\"properti\" + 0.000*\"widerquist\" + 0.000*\"bill\"'),\n",
       " (5,\n",
       "  '0.000*\"brain\" + 0.000*\"bi\" + 0.000*\"experi\" + 0.000*\"labor\" + 0.000*\"vision\" + 0.000*\"human\"'),\n",
       " (6,\n",
       "  '0.000*\"sale_tax\" + 0.000*\"sale\" + 0.000*\"purpos_mean\" + 0.000*\"claim_ubi\" + 0.000*\"tax\" + 0.000*\"social_connect\"'),\n",
       " (7,\n",
       "  '0.000*\"experi\" + 0.000*\"big\" + 0.000*\"1998\" + 0.000*\"sheahen\" + 0.000*\"chronogram\" + 0.000*\"kela\"'),\n",
       " (8,\n",
       "  '0.000*\"apf\" + 0.000*\"bi\" + 0.000*\"oil\" + 0.000*\"hammond\" + 0.000*\"alaska\" + 0.000*\"fund\"'),\n",
       " (9,\n",
       "  '0.000*\"$10000\" + 0.000*\"definit\" + 0.000*\"net_incom\" + 0.000*\"dividend\" + 0.000*\"justic\" + 0.000*\"jpa\"')]"
      ]
     },
     "execution_count": 19,
     "metadata": {},
     "output_type": "execute_result"
    }
   ],
   "source": [
    "ldainput_m1 = ubi_uniandbigrams     \n",
    "id2word_m1 = corpora.Dictionary(ldainput_m1) \n",
    "ldacorpus_m1 = [id2word_m1.doc2bow(doc) for doc in ldainput_m1]\n",
    "tfidfcorpus_m1 = models.TfidfModel(ldacorpus_m1)\n",
    "lda_m1_10 = models.ldamodel.LdaModel(corpus=tfidfcorpus_m1[ldacorpus_m1],id2word=id2word_m1,num_topics=10)\n",
    "lda_m1_10.print_topics(num_words=6)\n"
   ]
  },
  {
   "cell_type": "code",
   "execution_count": 21,
   "metadata": {},
   "outputs": [
    {
     "name": "stderr",
     "output_type": "stream",
     "text": [
      "2019-05-27 12:18:05,782 : INFO : adding document #0 to Dictionary(0 unique tokens: [])\n",
      "2019-05-27 12:18:06,279 : INFO : built Dictionary(69555 unique tokens: ['\"the', '\"the_indepentarian\"', '&', '&_public', '(1988)']...) from 123 documents (total 195431 corpus positions)\n",
      "2019-05-27 12:18:06,727 : INFO : collecting document frequencies\n",
      "2019-05-27 12:18:06,729 : INFO : PROGRESS: processing document #0\n",
      "2019-05-27 12:18:06,846 : INFO : calculating IDF weights for 123 documents and 69554 features (137674 matrix non-zeros)\n",
      "2019-05-27 12:18:07,360 : INFO : using symmetric alpha at 0.2\n",
      "2019-05-27 12:18:07,362 : INFO : using symmetric eta at 0.2\n",
      "2019-05-27 12:18:07,399 : INFO : using serial LDA version on this node\n",
      "2019-05-27 12:18:07,551 : INFO : running online (single-pass) LDA training, 5 topics, 1 passes over the supplied corpus of 123 documents, updating model once every 123 documents, evaluating perplexity every 123 documents, iterating 50x with a convergence threshold of 0.001000\n",
      "2019-05-27 12:18:07,554 : WARNING : too few updates, training might not converge; consider increasing the number of passes or iterations to improve accuracy\n",
      "2019-05-27 12:18:10,671 : INFO : -91.754 per-word bound, 4176267696181887120778985472.0 perplexity estimate based on a held-out corpus of 123 documents with 2949 words\n",
      "2019-05-27 12:18:10,673 : INFO : PROGRESS: pass 0, at document #123/123\n",
      "2019-05-27 12:18:11,290 : INFO : topic #0 (0.200): 0.000*\"dividend\" + 0.000*\"widerquist\" + 0.000*\"experi\" + 0.000*\"apf\" + 0.000*\"tax\" + 0.000*\"alaska\" + 0.000*\"karl\" + 0.000*\"job\" + 0.000*\"sale_tax\" + 0.000*\"karl_widerquist\"\n",
      "2019-05-27 12:18:11,292 : INFO : topic #1 (0.200): 0.000*\"experi\" + 0.000*\"properti\" + 0.000*\"big\" + 0.000*\"job\" + 0.000*\"2018\" + 0.000*\"autom\" + 0.000*\"widerquist\" + 0.000*\"bi\" + 0.000*\"properti_right\" + 0.000*\"sheahen\"\n",
      "2019-05-27 12:18:11,294 : INFO : topic #2 (0.200): 0.000*\"experi\" + 0.000*\"properti\" + 0.000*\"bi\" + 0.000*\"justic\" + 0.000*\"bi_news\" + 0.000*\"jpa\" + 0.000*\"widerquist\" + 0.000*\"big\" + 0.000*\"oil\" + 0.000*\"alaska\"\n",
      "2019-05-27 12:18:11,297 : INFO : topic #3 (0.200): 0.000*\"experi\" + 0.000*\"purpos_mean\" + 0.000*\"social\" + 0.000*\"tax\" + 0.000*\"social_connect\" + 0.000*\"fund\" + 0.000*\"claim_ubi\" + 0.000*\"$10000\" + 0.000*\"job\" + 0.000*\"net\"\n",
      "2019-05-27 12:18:11,301 : INFO : topic #4 (0.200): 0.000*\"oil\" + 0.000*\"alaska\" + 0.000*\"bi\" + 0.000*\"big\" + 0.000*\"tax\" + 0.000*\"widerquist\" + 0.000*\"experi\" + 0.000*\"karl\" + 0.000*\"dividend\" + 0.000*\"karl_widerquist\"\n",
      "2019-05-27 12:18:11,304 : INFO : topic diff=2.941400, rho=1.000000\n",
      "2019-05-27 12:18:11,339 : INFO : topic #0 (0.200): 0.000*\"dividend\" + 0.000*\"widerquist\" + 0.000*\"experi\" + 0.000*\"apf\" + 0.000*\"tax\" + 0.000*\"alaska\"\n",
      "2019-05-27 12:18:11,342 : INFO : topic #1 (0.200): 0.000*\"experi\" + 0.000*\"properti\" + 0.000*\"big\" + 0.000*\"job\" + 0.000*\"2018\" + 0.000*\"autom\"\n",
      "2019-05-27 12:18:11,345 : INFO : topic #2 (0.200): 0.000*\"experi\" + 0.000*\"properti\" + 0.000*\"bi\" + 0.000*\"justic\" + 0.000*\"bi_news\" + 0.000*\"jpa\"\n",
      "2019-05-27 12:18:11,348 : INFO : topic #3 (0.200): 0.000*\"experi\" + 0.000*\"purpos_mean\" + 0.000*\"social\" + 0.000*\"tax\" + 0.000*\"social_connect\" + 0.000*\"fund\"\n",
      "2019-05-27 12:18:11,352 : INFO : topic #4 (0.200): 0.000*\"oil\" + 0.000*\"alaska\" + 0.000*\"bi\" + 0.000*\"big\" + 0.000*\"tax\" + 0.000*\"widerquist\"\n"
     ]
    },
    {
     "data": {
      "text/plain": [
       "[(0,\n",
       "  '0.000*\"dividend\" + 0.000*\"widerquist\" + 0.000*\"experi\" + 0.000*\"apf\" + 0.000*\"tax\" + 0.000*\"alaska\"'),\n",
       " (1,\n",
       "  '0.000*\"experi\" + 0.000*\"properti\" + 0.000*\"big\" + 0.000*\"job\" + 0.000*\"2018\" + 0.000*\"autom\"'),\n",
       " (2,\n",
       "  '0.000*\"experi\" + 0.000*\"properti\" + 0.000*\"bi\" + 0.000*\"justic\" + 0.000*\"bi_news\" + 0.000*\"jpa\"'),\n",
       " (3,\n",
       "  '0.000*\"experi\" + 0.000*\"purpos_mean\" + 0.000*\"social\" + 0.000*\"tax\" + 0.000*\"social_connect\" + 0.000*\"fund\"'),\n",
       " (4,\n",
       "  '0.000*\"oil\" + 0.000*\"alaska\" + 0.000*\"bi\" + 0.000*\"big\" + 0.000*\"tax\" + 0.000*\"widerquist\"')]"
      ]
     },
     "execution_count": 21,
     "metadata": {},
     "output_type": "execute_result"
    }
   ],
   "source": [
    "ldainput_m1 = ubi_uniandbigrams     \n",
    "id2word_m1 = corpora.Dictionary(ldainput_m1) \n",
    "ldacorpus_m1 = [id2word_m1.doc2bow(doc) for doc in ldainput_m1]\n",
    "tfidfcorpus_m1 = models.TfidfModel(ldacorpus_m1)\n",
    "lda_m1_5 = models.ldamodel.LdaModel(corpus=tfidfcorpus_m1[ldacorpus_m1],id2word=id2word_m1,num_topics=5)\n",
    "lda_m1_5.print_topics(num_words=6)\n"
   ]
  },
  {
   "cell_type": "code",
   "execution_count": 23,
   "metadata": {},
   "outputs": [
    {
     "data": {
      "text/plain": [
       "[([(6.066922e-05, 'oil'),\n",
       "   (5.061661e-05, 'alaska'),\n",
       "   (4.8163347e-05, 'bi'),\n",
       "   (4.815255e-05, 'big'),\n",
       "   (4.6712667e-05, 'tax'),\n",
       "   (4.38034e-05, 'widerquist'),\n",
       "   (4.242017e-05, 'experi'),\n",
       "   (4.1945354e-05, 'karl'),\n",
       "   (4.0398765e-05, 'dividend'),\n",
       "   (3.9907736e-05, 'karl_widerquist'),\n",
       "   (3.9319053e-05, 'billion'),\n",
       "   (3.924651e-05, 'fund'),\n",
       "   (3.883596e-05, 'brain'),\n",
       "   (3.860284e-05, 'labor'),\n",
       "   (3.6429366e-05, 'support'),\n",
       "   (3.6070385e-05, 'count'),\n",
       "   (3.5638655e-05, 'congress'),\n",
       "   (3.4886583e-05, 'ubi'),\n",
       "   (3.4517274e-05, 'apf'),\n",
       "   (3.4211076e-05, 'human')],\n",
       "  -2.924496297942984),\n",
       " ([(5.1015897e-05, 'dividend'),\n",
       "   (4.7404563e-05, 'widerquist'),\n",
       "   (4.497488e-05, 'experi'),\n",
       "   (4.451736e-05, 'apf'),\n",
       "   (4.1770894e-05, 'tax'),\n",
       "   (3.9706694e-05, 'alaska'),\n",
       "   (3.9299324e-05, 'karl'),\n",
       "   (3.709056e-05, 'job'),\n",
       "   (3.6150595e-05, 'sale_tax'),\n",
       "   (3.5486886e-05, 'karl_widerquist'),\n",
       "   (3.456206e-05, 'ubi'),\n",
       "   (3.4050357e-05, '1998'),\n",
       "   (3.3834574e-05, 'chronogram'),\n",
       "   (3.3485194e-05, 'trump'),\n",
       "   (3.3149336e-05, 'right'),\n",
       "   (3.3085667e-05, 'fund'),\n",
       "   (3.2629236e-05, 'rule'),\n",
       "   (3.2358865e-05, 'parti'),\n",
       "   (3.213053e-05, 'resourc'),\n",
       "   (3.1534433e-05, 'claim')],\n",
       "  -3.951577399665725),\n",
       " ([(5.1315423e-05, 'experi'),\n",
       "   (4.5318746e-05, 'properti'),\n",
       "   (4.3278662e-05, 'big'),\n",
       "   (3.9584884e-05, 'job'),\n",
       "   (3.887099e-05, '2018'),\n",
       "   (3.767633e-05, 'autom'),\n",
       "   (3.763084e-05, 'widerquist'),\n",
       "   (3.7387337e-05, 'bi'),\n",
       "   (3.5406167e-05, 'properti_right'),\n",
       "   (3.537557e-05, 'sheahen'),\n",
       "   (3.5082478e-05, 'right'),\n",
       "   (3.489374e-05, 'group'),\n",
       "   (3.464118e-05, 'definit'),\n",
       "   (3.323581e-05, 'particip'),\n",
       "   (3.315501e-05, 'namibian'),\n",
       "   (3.2505577e-05, 'hammond'),\n",
       "   (3.2090822e-05, 'karl'),\n",
       "   (3.2007254e-05, 'introduct'),\n",
       "   (3.187134e-05, 'karl_widerquist'),\n",
       "   (3.1445255e-05, 'alaska')],\n",
       "  -4.9524911834957575),\n",
       " ([(5.5721528e-05, 'experi'),\n",
       "   (4.2037675e-05, 'purpos_mean'),\n",
       "   (3.9673465e-05, 'social'),\n",
       "   (3.814953e-05, 'tax'),\n",
       "   (3.7694812e-05, 'social_connect'),\n",
       "   (3.693545e-05, 'fund'),\n",
       "   (3.684921e-05, 'claim_ubi'),\n",
       "   (3.630131e-05, '$10000'),\n",
       "   (3.5158748e-05, 'job'),\n",
       "   (3.4955945e-05, 'net'),\n",
       "   (3.4666136e-05, 'widerquist'),\n",
       "   (3.4578956e-05, 'bike'),\n",
       "   (3.4392186e-05, 'govern'),\n",
       "   (3.38728e-05, 'money'),\n",
       "   (3.3799468e-05, 'spend'),\n",
       "   (3.356024e-05, 'polici'),\n",
       "   (3.3238623e-05, 'budget'),\n",
       "   (3.3203884e-05, 'connect'),\n",
       "   (3.2983036e-05, 'michael_lewi'),\n",
       "   (3.2954747e-05, 'lewi')],\n",
       "  -5.817326903967549),\n",
       " ([(5.2039275e-05, 'experi'),\n",
       "   (4.3545206e-05, 'properti'),\n",
       "   (4.1876192e-05, 'bi'),\n",
       "   (4.1333944e-05, 'justic'),\n",
       "   (3.8627186e-05, 'bi_news'),\n",
       "   (3.795945e-05, 'jpa'),\n",
       "   (3.7751503e-05, 'widerquist'),\n",
       "   (3.7059217e-05, 'big'),\n",
       "   (3.563704e-05, 'oil'),\n",
       "   (3.5354442e-05, 'alaska'),\n",
       "   (3.356668e-05, 'suplici'),\n",
       "   (3.3344266e-05, 'right'),\n",
       "   (3.2689648e-05, 'theori_justic'),\n",
       "   (3.1817337e-05, 'octob'),\n",
       "   (3.1716503e-05, 'nit'),\n",
       "   (3.1673135e-05, 'ebi'),\n",
       "   (3.1425378e-05, 'social'),\n",
       "   (3.112382e-05, 'argument'),\n",
       "   (3.0948613e-05, 'individu'),\n",
       "   (3.063847e-05, 'net')],\n",
       "  -7.32111440087923)]"
      ]
     },
     "execution_count": 23,
     "metadata": {},
     "output_type": "execute_result"
    }
   ],
   "source": [
    "lda_m1_5.top_topics(tfidfcorpus_m1[ldacorpus_m1])"
   ]
  },
  {
   "cell_type": "markdown",
   "metadata": {},
   "source": [
    "## Filtering the Extremes"
   ]
  },
  {
   "cell_type": "markdown",
   "metadata": {},
   "source": [
    "I will try to run this model estimating it with different numbers of topics (3-5-10). After doing so, I will just pick and further analyze the one in which the topics seem to be more indicative and interesting. "
   ]
  },
  {
   "cell_type": "code",
   "execution_count": 25,
   "metadata": {},
   "outputs": [
    {
     "name": "stderr",
     "output_type": "stream",
     "text": [
      "2019-05-27 12:18:54,456 : INFO : adding document #0 to Dictionary(0 unique tokens: [])\n",
      "2019-05-27 12:18:55,056 : INFO : built Dictionary(69555 unique tokens: ['\"the', '\"the_indepentarian\"', '&', '&_public', '(1988)']...) from 123 documents (total 195431 corpus positions)\n",
      "2019-05-27 12:18:55,227 : INFO : discarding 68547 tokens: [('\"the', 88), ('\"the_indepentarian\"', 88), ('&_public', 1), ('(1988)', 1), ('(1988)_philosophi', 1), ('(1991)', 1), ('(1991)_philosophi', 1), ('(1996)', 88), ('(1996)_publish', 88), ('(1999)', 1)]...\n",
      "2019-05-27 12:18:55,229 : INFO : keeping 1008 tokens which were in no less than 10 and no more than 61 (=50.0%) documents\n",
      "2019-05-27 12:18:55,284 : INFO : resulting dictionary: Dictionary(1008 unique tokens: ['&', '(or', '(the', '40', '5']...)\n"
     ]
    }
   ],
   "source": [
    "ldainput_m2 = ubi_uniandbigrams     \n",
    "id2word_m2 = corpora.Dictionary(ldainput_m2) \n",
    "id2word_m2.filter_extremes(no_below=10, no_above=0.5)\n",
    "ldacorpus_m2 = [id2word_m2.doc2bow(doc) for doc in ldainput_m2]\n",
    "\n"
   ]
  },
  {
   "cell_type": "markdown",
   "metadata": {},
   "source": [
    "### 3 TOPICS"
   ]
  },
  {
   "cell_type": "code",
   "execution_count": 74,
   "metadata": {},
   "outputs": [
    {
     "name": "stderr",
     "output_type": "stream",
     "text": [
      "2019-05-27 15:22:37,248 : INFO : collecting document frequencies\n",
      "2019-05-27 15:22:37,249 : INFO : PROGRESS: processing document #0\n",
      "2019-05-27 15:22:37,254 : INFO : calculating IDF weights for 123 documents and 1007 features (21314 matrix non-zeros)\n",
      "2019-05-27 15:22:37,260 : INFO : using symmetric alpha at 0.3333333333333333\n",
      "2019-05-27 15:22:37,262 : INFO : using symmetric eta at 0.3333333333333333\n",
      "2019-05-27 15:22:37,263 : INFO : using serial LDA version on this node\n",
      "2019-05-27 15:22:37,265 : INFO : running online (single-pass) LDA training, 3 topics, 1 passes over the supplied corpus of 123 documents, updating model once every 123 documents, evaluating perplexity every 123 documents, iterating 50x with a convergence threshold of 0.001000\n",
      "2019-05-27 15:22:37,266 : WARNING : too few updates, training might not converge; consider increasing the number of passes or iterations to improve accuracy\n",
      "2019-05-27 15:22:37,563 : INFO : -8.786 per-word bound, 441.5 perplexity estimate based on a held-out corpus of 123 documents with 1097 words\n",
      "2019-05-27 15:22:37,564 : INFO : PROGRESS: pass 0, at document #123/123\n",
      "2019-05-27 15:22:37,704 : INFO : topic #0 (0.333): 0.004*\"experi\" + 0.003*\"tax\" + 0.003*\"claim\" + 0.003*\"job\" + 0.003*\"welfar\" + 0.002*\"august\" + 0.002*\"june\" + 0.002*\"talk\" + 0.002*\"depress\" + 0.002*\"congress\"\n",
      "2019-05-27 15:22:37,705 : INFO : topic #1 (0.333): 0.004*\"dividend\" + 0.004*\"alaska\" + 0.004*\"properti\" + 0.004*\"apf\" + 0.003*\"oil\" + 0.003*\"fund\" + 0.003*\"right\" + 0.003*\"volunt\" + 0.003*\"resourc\" + 0.002*\"big\"\n",
      "2019-05-27 15:22:37,705 : INFO : topic #2 (0.333): 0.004*\"big\" + 0.004*\"experi\" + 0.003*\"net\" + 0.003*\"lewi\" + 0.003*\"job\" + 0.003*\"labor\" + 0.003*\"michael\" + 0.003*\"michael_lewi\" + 0.002*\"tax\" + 0.002*\"alaska\"\n",
      "2019-05-27 15:22:37,706 : INFO : topic diff=0.590715, rho=1.000000\n",
      "2019-05-27 15:22:37,710 : INFO : topic #0 (0.333): 0.004*\"experi\" + 0.003*\"tax\" + 0.003*\"claim\" + 0.003*\"job\" + 0.003*\"welfar\"\n",
      "2019-05-27 15:22:37,711 : INFO : topic #1 (0.333): 0.004*\"dividend\" + 0.004*\"alaska\" + 0.004*\"properti\" + 0.004*\"apf\" + 0.003*\"oil\"\n",
      "2019-05-27 15:22:37,712 : INFO : topic #2 (0.333): 0.004*\"big\" + 0.004*\"experi\" + 0.003*\"net\" + 0.003*\"lewi\" + 0.003*\"job\"\n"
     ]
    },
    {
     "data": {
      "text/plain": [
       "[(0,\n",
       "  '0.004*\"experi\" + 0.003*\"tax\" + 0.003*\"claim\" + 0.003*\"job\" + 0.003*\"welfar\"'),\n",
       " (1,\n",
       "  '0.004*\"dividend\" + 0.004*\"alaska\" + 0.004*\"properti\" + 0.004*\"apf\" + 0.003*\"oil\"'),\n",
       " (2,\n",
       "  '0.004*\"big\" + 0.004*\"experi\" + 0.003*\"net\" + 0.003*\"lewi\" + 0.003*\"job\"')]"
      ]
     },
     "execution_count": 74,
     "metadata": {},
     "output_type": "execute_result"
    }
   ],
   "source": [
    "tfidfcorpus_m2 = models.TfidfModel(ldacorpus_m2)\n",
    "lda_m2_3 = models.ldamodel.LdaModel(corpus=tfidfcorpus_m2[ldacorpus_m2],id2word=id2word_m2,num_topics=3)\n",
    "lda_m2_3.print_topics(num_words= 5)"
   ]
  },
  {
   "cell_type": "code",
   "execution_count": 75,
   "metadata": {},
   "outputs": [
    {
     "data": {
      "text/plain": [
       "[([(0.0043422994, 'experi'),\n",
       "   (0.0030024552, 'tax'),\n",
       "   (0.0028111257, 'claim'),\n",
       "   (0.0027366925, 'job'),\n",
       "   (0.0025711455, 'welfar'),\n",
       "   (0.0024375871, 'august'),\n",
       "   (0.0023560696, 'june'),\n",
       "   (0.0023326892, 'talk'),\n",
       "   (0.0022173908, 'depress'),\n",
       "   (0.0022080129, 'congress'),\n",
       "   (0.002197287, 'big'),\n",
       "   (0.0021546234, 'gave'),\n",
       "   (0.0021325727, 'individu'),\n",
       "   (0.0021306924, '2018'),\n",
       "   (0.0021169265, 'reduc'),\n",
       "   (0.002071899, 'welfar_system'),\n",
       "   (0.0020078802, 'right'),\n",
       "   (0.0019832326, 'idea'),\n",
       "   (0.0019582394, 'particip'),\n",
       "   (0.0019518005, \"i'm\")],\n",
       "  -1.5340481231367915),\n",
       " ([(0.0039882953, 'big'),\n",
       "   (0.0037556184, 'experi'),\n",
       "   (0.0030024312, 'net'),\n",
       "   (0.0029045213, 'lewi'),\n",
       "   (0.002795433, 'job'),\n",
       "   (0.0026422744, 'labor'),\n",
       "   (0.002636764, 'michael'),\n",
       "   (0.0026232172, 'michael_lewi'),\n",
       "   (0.0024647738, 'tax'),\n",
       "   (0.002382205, 'alaska'),\n",
       "   (0.0023502402, 'polici'),\n",
       "   (0.0023220915, 'human'),\n",
       "   (0.0023160568, 'play'),\n",
       "   (0.0022971986, 'june'),\n",
       "   (0.0022664343, 'justic'),\n",
       "   (0.002264856, 'oil'),\n",
       "   (0.0021780985, 'cost'),\n",
       "   (0.002134783, 'technolog'),\n",
       "   (0.002067728, 'futur'),\n",
       "   (0.0020518492, 'america')],\n",
       "  -2.0959243316899476),\n",
       " ([(0.00430539, 'dividend'),\n",
       "   (0.0040909806, 'alaska'),\n",
       "   (0.0038205152, 'properti'),\n",
       "   (0.0035177474, 'apf'),\n",
       "   (0.0034390274, 'oil'),\n",
       "   (0.003193577, 'fund'),\n",
       "   (0.0030032273, 'right'),\n",
       "   (0.0025719313, 'volunt'),\n",
       "   (0.0025363045, 'resourc'),\n",
       "   (0.0024865707, 'big'),\n",
       "   (0.0024175327, 'alaskan'),\n",
       "   (0.0022745705, 'experi'),\n",
       "   (0.0022437498, 'octob'),\n",
       "   (0.0021896143, 'tax'),\n",
       "   (0.0021286737, 'billion'),\n",
       "   (0.0020938483, 'money'),\n",
       "   (0.002058755, 'definit'),\n",
       "   (0.0020207386, 'group'),\n",
       "   (0.0019732038, 'parti'),\n",
       "   (0.0019064081, 'revenu')],\n",
       "  -2.2004610733937295)]"
      ]
     },
     "execution_count": 75,
     "metadata": {},
     "output_type": "execute_result"
    }
   ],
   "source": [
    "lda_m2_3.top_topics(tfidfcorpus_m2[ldacorpus_m2])"
   ]
  },
  {
   "cell_type": "markdown",
   "metadata": {},
   "source": [
    "###  5 TOPICS"
   ]
  },
  {
   "cell_type": "code",
   "execution_count": 35,
   "metadata": {},
   "outputs": [
    {
     "name": "stderr",
     "output_type": "stream",
     "text": [
      "2019-05-27 13:28:13,307 : INFO : collecting document frequencies\n",
      "2019-05-27 13:28:13,308 : INFO : PROGRESS: processing document #0\n",
      "2019-05-27 13:28:13,316 : INFO : calculating IDF weights for 123 documents and 1007 features (21314 matrix non-zeros)\n",
      "2019-05-27 13:28:13,321 : INFO : using symmetric alpha at 0.2\n",
      "2019-05-27 13:28:13,322 : INFO : using symmetric eta at 0.2\n",
      "2019-05-27 13:28:13,323 : INFO : using serial LDA version on this node\n",
      "2019-05-27 13:28:13,324 : INFO : running online (single-pass) LDA training, 5 topics, 1 passes over the supplied corpus of 123 documents, updating model once every 123 documents, evaluating perplexity every 123 documents, iterating 50x with a convergence threshold of 0.001000\n",
      "2019-05-27 13:28:13,326 : WARNING : too few updates, training might not converge; consider increasing the number of passes or iterations to improve accuracy\n",
      "2019-05-27 13:28:13,670 : INFO : -10.878 per-word bound, 1881.9 perplexity estimate based on a held-out corpus of 123 documents with 1097 words\n",
      "2019-05-27 13:28:13,671 : INFO : PROGRESS: pass 0, at document #123/123\n",
      "2019-05-27 13:28:13,791 : INFO : topic #0 (0.200): 0.006*\"big\" + 0.003*\"spend\" + 0.003*\"poverti\" + 0.003*\"depress\" + 0.003*\"unit\" + 0.003*\"budget\" + 0.003*\"autom\" + 0.002*\"poor\" + 0.002*\"experi\" + 0.002*\"system\"\n",
      "2019-05-27 13:28:13,792 : INFO : topic #1 (0.200): 0.005*\"oil\" + 0.004*\"alaska\" + 0.004*\"justic\" + 0.004*\"dividend\" + 0.004*\"properti\" + 0.003*\"bill\" + 0.003*\"fund\" + 0.003*\"tax\" + 0.003*\"congress\" + 0.003*\"job\"\n",
      "2019-05-27 13:28:13,793 : INFO : topic #2 (0.200): 0.004*\"lewi\" + 0.004*\"june\" + 0.004*\"michael_lewi\" + 0.004*\"michael\" + 0.003*\"experi\" + 0.003*\"2014\" + 0.003*\"labor\" + 0.003*\"volunt\" + 0.003*\"apf\" + 0.003*\"play\"\n",
      "2019-05-27 13:28:13,794 : INFO : topic #3 (0.200): 0.004*\"experi\" + 0.003*\"definit\" + 0.003*\"big\" + 0.003*\"tax\" + 0.003*\"januari\" + 0.003*\"polici\" + 0.003*\"right\" + 0.003*\"issu\" + 0.002*\"organ\" + 0.002*\"magazin\"\n",
      "2019-05-27 13:28:13,795 : INFO : topic #4 (0.200): 0.004*\"experi\" + 0.004*\"job\" + 0.003*\"net\" + 0.003*\"individu\" + 0.003*\"right\" + 0.003*\"particip\" + 0.003*\"tax\" + 0.003*\"white\" + 0.003*\"parti\" + 0.003*\"talk\"\n",
      "2019-05-27 13:28:13,797 : INFO : topic diff=1.416665, rho=1.000000\n",
      "2019-05-27 13:28:13,801 : INFO : topic #0 (0.200): 0.006*\"big\" + 0.003*\"spend\" + 0.003*\"poverti\" + 0.003*\"depress\" + 0.003*\"unit\" + 0.003*\"budget\"\n",
      "2019-05-27 13:28:13,802 : INFO : topic #1 (0.200): 0.005*\"oil\" + 0.004*\"alaska\" + 0.004*\"justic\" + 0.004*\"dividend\" + 0.004*\"properti\" + 0.003*\"bill\"\n",
      "2019-05-27 13:28:13,803 : INFO : topic #2 (0.200): 0.004*\"lewi\" + 0.004*\"june\" + 0.004*\"michael_lewi\" + 0.004*\"michael\" + 0.003*\"experi\" + 0.003*\"2014\"\n",
      "2019-05-27 13:28:13,804 : INFO : topic #3 (0.200): 0.004*\"experi\" + 0.003*\"definit\" + 0.003*\"big\" + 0.003*\"tax\" + 0.003*\"januari\" + 0.003*\"polici\"\n",
      "2019-05-27 13:28:13,805 : INFO : topic #4 (0.200): 0.004*\"experi\" + 0.004*\"job\" + 0.003*\"net\" + 0.003*\"individu\" + 0.003*\"right\" + 0.003*\"particip\"\n"
     ]
    },
    {
     "data": {
      "text/plain": [
       "[(0,\n",
       "  '0.006*\"big\" + 0.003*\"spend\" + 0.003*\"poverti\" + 0.003*\"depress\" + 0.003*\"unit\" + 0.003*\"budget\"'),\n",
       " (1,\n",
       "  '0.005*\"oil\" + 0.004*\"alaska\" + 0.004*\"justic\" + 0.004*\"dividend\" + 0.004*\"properti\" + 0.003*\"bill\"'),\n",
       " (2,\n",
       "  '0.004*\"lewi\" + 0.004*\"june\" + 0.004*\"michael_lewi\" + 0.004*\"michael\" + 0.003*\"experi\" + 0.003*\"2014\"'),\n",
       " (3,\n",
       "  '0.004*\"experi\" + 0.003*\"definit\" + 0.003*\"big\" + 0.003*\"tax\" + 0.003*\"januari\" + 0.003*\"polici\"'),\n",
       " (4,\n",
       "  '0.004*\"experi\" + 0.004*\"job\" + 0.003*\"net\" + 0.003*\"individu\" + 0.003*\"right\" + 0.003*\"particip\"')]"
      ]
     },
     "execution_count": 35,
     "metadata": {},
     "output_type": "execute_result"
    }
   ],
   "source": [
    "tfidfcorpus_m2 = models.TfidfModel(ldacorpus_m2)\n",
    "lda_m2_5 = models.ldamodel.LdaModel(corpus=tfidfcorpus_m2[ldacorpus_m2],id2word=id2word_m2,num_topics=5)\n",
    "lda_m2_5.print_topics(num_words=6)\n"
   ]
  },
  {
   "cell_type": "code",
   "execution_count": 30,
   "metadata": {},
   "outputs": [
    {
     "data": {
      "text/plain": [
       "[([(0.004405354, 'oil'),\n",
       "   (0.0041272193, 'dividend'),\n",
       "   (0.0038324252, 'alaska'),\n",
       "   (0.0037548607, 'big'),\n",
       "   (0.003478612, 'experi'),\n",
       "   (0.0032150312, 'fund'),\n",
       "   (0.003068708, 'particip'),\n",
       "   (0.0028701117, 'bill'),\n",
       "   (0.0027836089, 'individu'),\n",
       "   (0.0027248512, 'parti'),\n",
       "   (0.0025857582, 'organ'),\n",
       "   (0.0025163752, 'model'),\n",
       "   (0.002496801, 'idea'),\n",
       "   (0.0024623356, 'june'),\n",
       "   (0.002418388, 'perman'),\n",
       "   (0.0023842119, 'senat'),\n",
       "   (0.002306247, 'perman_fund'),\n",
       "   (0.00226781, 'vote'),\n",
       "   (0.0022611395, 'activist'),\n",
       "   (0.00224369, 'januari')],\n",
       "  -1.4549854322378881),\n",
       " ([(0.0051302747, 'job'),\n",
       "   (0.0036095004, 'tax'),\n",
       "   (0.0035047443, 'right'),\n",
       "   (0.0033512998, 'play'),\n",
       "   (0.0032557854, 'lewi'),\n",
       "   (0.0031977803, 'autom'),\n",
       "   (0.0031676954, 'michael_lewi'),\n",
       "   (0.0029707816, 'talk'),\n",
       "   (0.002887815, \"i'm\"),\n",
       "   (0.0027759797, 'gave'),\n",
       "   (0.0027754928, 'michael'),\n",
       "   (0.002487619, 'labor'),\n",
       "   (0.0024317247, 'claim'),\n",
       "   (0.0023863146, 'reduc'),\n",
       "   (0.0023827052, 'net'),\n",
       "   (0.0023384318, 'worker'),\n",
       "   (0.002247493, 'count'),\n",
       "   (0.0022065905, 'magazin'),\n",
       "   (0.0021997984, 'cost'),\n",
       "   (0.0021830257, 'definit')],\n",
       "  -1.556595832512123),\n",
       " ([(0.0043940064, 'experi'),\n",
       "   (0.0034103727, 'apf'),\n",
       "   (0.0032259289, 'dividend'),\n",
       "   (0.0030399798, 'volunt'),\n",
       "   (0.0029004822, 'congress'),\n",
       "   (0.0028900858, '2018'),\n",
       "   (0.0028302935, 'present'),\n",
       "   (0.0027208948, 'alaska'),\n",
       "   (0.0025640454, 'fund'),\n",
       "   (0.0025067928, 'definit'),\n",
       "   (0.0024796934, 'educ'),\n",
       "   (0.0024626409, 'howev'),\n",
       "   (0.0022847212, 'job'),\n",
       "   (0.0022710694, 'tax'),\n",
       "   (0.0021492555, 'octob'),\n",
       "   (0.002146659, 'reform'),\n",
       "   (0.0021412084, 'big'),\n",
       "   (0.0020934814, 'particip'),\n",
       "   (0.0020902557, 'receiv'),\n",
       "   (0.002053976, 'bill')],\n",
       "  -1.621743948324684),\n",
       " ([(0.0047686235, 'big'),\n",
       "   (0.004242733, 'alaska'),\n",
       "   (0.0032813696, 'resourc'),\n",
       "   (0.0032573594, 'properti'),\n",
       "   (0.0031427513, 'oil'),\n",
       "   (0.002726386, 'confer'),\n",
       "   (0.0026993318, 'tax'),\n",
       "   (0.0026577602, 'comput'),\n",
       "   (0.0025915315, 'spend'),\n",
       "   (0.002491933, 'fund'),\n",
       "   (0.0024293289, 'world'),\n",
       "   (0.0024094891, 'per'),\n",
       "   (0.0023502712, 'pay'),\n",
       "   (0.0023493634, 'money'),\n",
       "   (0.002338439, 'dividend'),\n",
       "   (0.002279542, 'famili'),\n",
       "   (0.0022563592, 'billion'),\n",
       "   (0.0022516602, 'august'),\n",
       "   (0.0022202488, 'labor'),\n",
       "   (0.0021979427, 'octob')],\n",
       "  -1.6880137994134197),\n",
       " ([(0.0073663755, 'experi'),\n",
       "   (0.0045403964, 'properti'),\n",
       "   (0.003383618, 'justic'),\n",
       "   (0.00320274, 'understand'),\n",
       "   (0.0030384494, 'group'),\n",
       "   (0.0029524295, 'polici'),\n",
       "   (0.002925233, 'difficulti'),\n",
       "   (0.0029126778, 'right'),\n",
       "   (0.0028244779, 'earli'),\n",
       "   (0.0026847264, 'experiment'),\n",
       "   (0.0026418017, 'conduct'),\n",
       "   (0.002490592, 'white'),\n",
       "   (0.0024330872, 'pilot'),\n",
       "   (0.0024240115, 'impli'),\n",
       "   (0.002353051, 'futur'),\n",
       "   (0.0023320178, 'cut'),\n",
       "   (0.002188268, 'piec'),\n",
       "   (0.0021463875, 'june'),\n",
       "   (0.0021199184, 'observ'),\n",
       "   (0.0021082622, 'cost')],\n",
       "  -2.5485748040357348)]"
      ]
     },
     "execution_count": 30,
     "metadata": {},
     "output_type": "execute_result"
    }
   ],
   "source": [
    "lda_m2_5.top_topics(tfidfcorpus_m2[ldacorpus_m2])"
   ]
  },
  {
   "cell_type": "markdown",
   "metadata": {},
   "source": [
    "### 10 TOPICS"
   ]
  },
  {
   "cell_type": "code",
   "execution_count": 31,
   "metadata": {},
   "outputs": [
    {
     "name": "stderr",
     "output_type": "stream",
     "text": [
      "2019-05-27 12:25:15,685 : INFO : collecting document frequencies\n",
      "2019-05-27 12:25:15,687 : INFO : PROGRESS: processing document #0\n",
      "2019-05-27 12:25:15,698 : INFO : calculating IDF weights for 123 documents and 1007 features (21314 matrix non-zeros)\n",
      "2019-05-27 12:25:15,709 : INFO : using symmetric alpha at 0.1\n",
      "2019-05-27 12:25:15,710 : INFO : using symmetric eta at 0.1\n",
      "2019-05-27 12:25:15,712 : INFO : using serial LDA version on this node\n",
      "2019-05-27 12:25:15,716 : INFO : running online (single-pass) LDA training, 10 topics, 1 passes over the supplied corpus of 123 documents, updating model once every 123 documents, evaluating perplexity every 123 documents, iterating 50x with a convergence threshold of 0.001000\n",
      "2019-05-27 12:25:15,718 : WARNING : too few updates, training might not converge; consider increasing the number of passes or iterations to improve accuracy\n",
      "2019-05-27 12:25:16,419 : INFO : -18.158 per-word bound, 292573.3 perplexity estimate based on a held-out corpus of 123 documents with 1097 words\n",
      "2019-05-27 12:25:16,421 : INFO : PROGRESS: pass 0, at document #123/123\n",
      "2019-05-27 12:25:16,685 : INFO : topic #5 (0.100): 0.009*\"experi\" + 0.005*\"properti\" + 0.005*\"group\" + 0.004*\"labor\" + 0.004*\"play\" + 0.004*\"lewi\" + 0.004*\"michael_lewi\" + 0.003*\"right\" + 0.003*\"michael\" + 0.003*\"tax\"\n",
      "2019-05-27 12:25:16,687 : INFO : topic #6 (0.100): 0.006*\"big\" + 0.006*\"job\" + 0.005*\"experi\" + 0.005*\"individu\" + 0.004*\"futur\" + 0.004*\"cost\" + 0.004*\"unemploy\" + 0.003*\"particip\" + 0.003*\"communiti\" + 0.003*\"employ\"\n",
      "2019-05-27 12:25:16,689 : INFO : topic #1 (0.100): 0.006*\"june\" + 0.005*\"difficulti\" + 0.005*\"cut\" + 0.005*\"understand\" + 0.004*\"autom\" + 0.004*\"polici\" + 0.004*\"alaska\" + 0.004*\"octob\" + 0.004*\"impli\" + 0.004*\"5\"\n",
      "2019-05-27 12:25:16,692 : INFO : topic #8 (0.100): 0.005*\"experi\" + 0.004*\"resourc\" + 0.004*\"big\" + 0.003*\"billion\" + 0.003*\"congress\" + 0.003*\"dividend\" + 0.003*\"elect\" + 0.003*\"transfer\" + 0.003*\"rule\" + 0.003*\"particip\"\n",
      "2019-05-27 12:25:16,695 : INFO : topic #7 (0.100): 0.006*\"alaska\" + 0.005*\"apf\" + 0.004*\"comput\" + 0.004*\"oil\" + 0.004*\"dividend\" + 0.004*\"coalit\" + 0.004*\"purpos\" + 0.003*\"american\" + 0.003*\"connect\" + 0.003*\"america\"\n",
      "2019-05-27 12:25:16,697 : INFO : topic diff=4.142161, rho=1.000000\n",
      "2019-05-27 12:25:16,703 : INFO : topic #0 (0.100): 0.004*\"pilot\" + 0.004*\"keep\" + 0.003*\"most\" + 0.003*\"magazin\" + 0.003*\"volunt\" + 0.003*\"individu\"\n",
      "2019-05-27 12:25:16,706 : INFO : topic #1 (0.100): 0.006*\"june\" + 0.005*\"difficulti\" + 0.005*\"cut\" + 0.005*\"understand\" + 0.004*\"autom\" + 0.004*\"polici\"\n",
      "2019-05-27 12:25:16,708 : INFO : topic #2 (0.100): 0.007*\"claim\" + 0.004*\"properti\" + 0.004*\"awar\" + 0.004*\"labor\" + 0.003*\"experi\" + 0.003*\"owner\"\n",
      "2019-05-27 12:25:16,710 : INFO : topic #3 (0.100): 0.007*\"oil\" + 0.006*\"2018\" + 0.004*\"hour\" + 0.004*\"fund\" + 0.004*\"job\" + 0.004*\"idea\"\n",
      "2019-05-27 12:25:16,711 : INFO : topic #4 (0.100): 0.005*\"properti\" + 0.005*\"count\" + 0.004*\"congress\" + 0.003*\"influenc\" + 0.003*\"owner\" + 0.003*\"experi\"\n",
      "2019-05-27 12:25:16,712 : INFO : topic #5 (0.100): 0.009*\"experi\" + 0.005*\"properti\" + 0.005*\"group\" + 0.004*\"labor\" + 0.004*\"play\" + 0.004*\"lewi\"\n",
      "2019-05-27 12:25:16,715 : INFO : topic #6 (0.100): 0.006*\"big\" + 0.006*\"job\" + 0.005*\"experi\" + 0.005*\"individu\" + 0.004*\"futur\" + 0.004*\"cost\"\n",
      "2019-05-27 12:25:16,716 : INFO : topic #7 (0.100): 0.006*\"alaska\" + 0.005*\"apf\" + 0.004*\"comput\" + 0.004*\"oil\" + 0.004*\"dividend\" + 0.004*\"coalit\"\n",
      "2019-05-27 12:25:16,718 : INFO : topic #8 (0.100): 0.005*\"experi\" + 0.004*\"resourc\" + 0.004*\"big\" + 0.003*\"billion\" + 0.003*\"congress\" + 0.003*\"dividend\"\n",
      "2019-05-27 12:25:16,720 : INFO : topic #9 (0.100): 0.005*\"tax\" + 0.005*\"dividend\" + 0.004*\"net\" + 0.003*\"spend\" + 0.003*\"justic\" + 0.003*\"2014\"\n"
     ]
    },
    {
     "data": {
      "text/plain": [
       "[(0,\n",
       "  '0.004*\"pilot\" + 0.004*\"keep\" + 0.003*\"most\" + 0.003*\"magazin\" + 0.003*\"volunt\" + 0.003*\"individu\"'),\n",
       " (1,\n",
       "  '0.006*\"june\" + 0.005*\"difficulti\" + 0.005*\"cut\" + 0.005*\"understand\" + 0.004*\"autom\" + 0.004*\"polici\"'),\n",
       " (2,\n",
       "  '0.007*\"claim\" + 0.004*\"properti\" + 0.004*\"awar\" + 0.004*\"labor\" + 0.003*\"experi\" + 0.003*\"owner\"'),\n",
       " (3,\n",
       "  '0.007*\"oil\" + 0.006*\"2018\" + 0.004*\"hour\" + 0.004*\"fund\" + 0.004*\"job\" + 0.004*\"idea\"'),\n",
       " (4,\n",
       "  '0.005*\"properti\" + 0.005*\"count\" + 0.004*\"congress\" + 0.003*\"influenc\" + 0.003*\"owner\" + 0.003*\"experi\"'),\n",
       " (5,\n",
       "  '0.009*\"experi\" + 0.005*\"properti\" + 0.005*\"group\" + 0.004*\"labor\" + 0.004*\"play\" + 0.004*\"lewi\"'),\n",
       " (6,\n",
       "  '0.006*\"big\" + 0.006*\"job\" + 0.005*\"experi\" + 0.005*\"individu\" + 0.004*\"futur\" + 0.004*\"cost\"'),\n",
       " (7,\n",
       "  '0.006*\"alaska\" + 0.005*\"apf\" + 0.004*\"comput\" + 0.004*\"oil\" + 0.004*\"dividend\" + 0.004*\"coalit\"'),\n",
       " (8,\n",
       "  '0.005*\"experi\" + 0.004*\"resourc\" + 0.004*\"big\" + 0.003*\"billion\" + 0.003*\"congress\" + 0.003*\"dividend\"'),\n",
       " (9,\n",
       "  '0.005*\"tax\" + 0.005*\"dividend\" + 0.004*\"net\" + 0.003*\"spend\" + 0.003*\"justic\" + 0.003*\"2014\"')]"
      ]
     },
     "execution_count": 31,
     "metadata": {},
     "output_type": "execute_result"
    }
   ],
   "source": [
    "tfidfcorpus_m2 = models.TfidfModel(ldacorpus_m2)\n",
    "lda_m2_10 = models.ldamodel.LdaModel(corpus=tfidfcorpus_m2[ldacorpus_m2],id2word=id2word_m2,num_topics=10)\n",
    "lda_m2_10.print_topics(num_words=6)"
   ]
  },
  {
   "cell_type": "code",
   "execution_count": 68,
   "metadata": {},
   "outputs": [
    {
     "data": {
      "text/plain": [
       "[([(0.00518421, 'properti'),\n",
       "   (0.004592266, 'count'),\n",
       "   (0.0035224631, 'congress'),\n",
       "   (0.0031654835, 'influenc'),\n",
       "   (0.0031103953, 'owner'),\n",
       "   (0.0029673958, 'experi'),\n",
       "   (0.0029622107, \"you'r\"),\n",
       "   (0.002826135, 'right'),\n",
       "   (0.0027696881, 'alaska'),\n",
       "   (0.0027413673, 'said'),\n",
       "   (0.00273236, 'fund'),\n",
       "   (0.0025870583, 'tax'),\n",
       "   (0.0025506339, 'good'),\n",
       "   (0.002535154, 'effort'),\n",
       "   (0.002505667, 'michael_lewi'),\n",
       "   (0.0024874492, 'money'),\n",
       "   (0.0024822783, 'oil'),\n",
       "   (0.0024627785, 'four'),\n",
       "   (0.0024473425, 'lewi'),\n",
       "   (0.0024301356, 'result')],\n",
       "  -1.449456785190612),\n",
       " ([(0.008543475, 'experi'),\n",
       "   (0.0049398597, 'properti'),\n",
       "   (0.004577818, 'group'),\n",
       "   (0.0041573164, 'labor'),\n",
       "   (0.0040839077, 'play'),\n",
       "   (0.0038904403, 'lewi'),\n",
       "   (0.0035177625, 'michael_lewi'),\n",
       "   (0.003368658, 'right'),\n",
       "   (0.0031749646, 'michael'),\n",
       "   (0.0031527446, 'tax'),\n",
       "   (0.0030575073, 'depress'),\n",
       "   (0.0029510113, 'experiment'),\n",
       "   (0.0028738917, 'observ'),\n",
       "   (0.0028696037, 'argument'),\n",
       "   (0.0028487125, 'big'),\n",
       "   (0.0028016248, 'receiv'),\n",
       "   (0.002632894, 'bill'),\n",
       "   (0.002541037, 'treatment'),\n",
       "   (0.0025103607, 'care'),\n",
       "   (0.002438351, 'cash')],\n",
       "  -1.6051916185842356),\n",
       " ([(0.006029969, 'big'),\n",
       "   (0.0057278965, 'job'),\n",
       "   (0.0050251316, 'experi'),\n",
       "   (0.0045597483, 'individu'),\n",
       "   (0.004041141, 'futur'),\n",
       "   (0.0038400907, 'cost'),\n",
       "   (0.0036369998, 'unemploy'),\n",
       "   (0.0034647798, 'particip'),\n",
       "   (0.003372335, 'communiti'),\n",
       "   (0.0032610064, 'employ'),\n",
       "   (0.003232368, 'apf'),\n",
       "   (0.0031032937, 'receiv'),\n",
       "   (0.0029220914, 'pay'),\n",
       "   (0.0029068233, 'list'),\n",
       "   (0.002708144, 'cash'),\n",
       "   (0.0025840935, 'goal'),\n",
       "   (0.0025838185, 'tax'),\n",
       "   (0.0024892054, 'resid'),\n",
       "   (0.0024781947, '2016'),\n",
       "   (0.0024742936, 'project')],\n",
       "  -1.6179947871565765),\n",
       " ([(0.004517308, 'experi'),\n",
       "   (0.0043305196, 'resourc'),\n",
       "   (0.0042574746, 'big'),\n",
       "   (0.0034995526, 'billion'),\n",
       "   (0.0033206984, 'congress'),\n",
       "   (0.0032781586, 'dividend'),\n",
       "   (0.003195797, 'elect'),\n",
       "   (0.003014947, 'transfer'),\n",
       "   (0.00300349, 'rule'),\n",
       "   (0.0029868775, 'particip'),\n",
       "   (0.0028899212, 'gave'),\n",
       "   (0.0028833456, 'presid'),\n",
       "   (0.0028770426, 'parti'),\n",
       "   (0.002830048, 'money'),\n",
       "   (0.0028057268, 'alaska'),\n",
       "   (0.002782643, 'volunt'),\n",
       "   (0.0026885376, 'confer'),\n",
       "   (0.0026489557, 'oil'),\n",
       "   (0.00260119, 'right'),\n",
       "   (0.0025639394, 'seri')],\n",
       "  -1.6311390445168688),\n",
       " ([(0.0056805536, 'june'),\n",
       "   (0.0047452613, 'difficulti'),\n",
       "   (0.00470378, 'cut'),\n",
       "   (0.004550208, 'understand'),\n",
       "   (0.004304839, 'autom'),\n",
       "   (0.004211908, 'polici'),\n",
       "   (0.0040880553, 'alaska'),\n",
       "   (0.003992739, 'octob'),\n",
       "   (0.0038271677, 'impli'),\n",
       "   (0.0037562328, '5'),\n",
       "   (0.0034995072, 'earli'),\n",
       "   (0.0033815398, 'volunt'),\n",
       "   (0.0032601876, 'model'),\n",
       "   (0.0032397585, 'experi'),\n",
       "   (0.0031636516, 'event'),\n",
       "   (0.0031561775, 'wrong'),\n",
       "   (0.003115321, 'bill'),\n",
       "   (0.0030609623, 'reduc'),\n",
       "   (0.0030381184, 'welfar'),\n",
       "   (0.0030369963, 'august')],\n",
       "  -2.179318135276367),\n",
       " ([(0.0071020233, 'claim'),\n",
       "   (0.0040599494, 'properti'),\n",
       "   (0.0038584203, 'awar'),\n",
       "   (0.0038518868, 'labor'),\n",
       "   (0.003447736, 'experi'),\n",
       "   (0.0034234093, 'owner'),\n",
       "   (0.003414344, 'justic'),\n",
       "   (0.0033240125, 'debat'),\n",
       "   (0.003242104, 'rather'),\n",
       "   (0.003226899, 'invest'),\n",
       "   (0.0030473787, 'human'),\n",
       "   (0.0029926738, 'june'),\n",
       "   (0.0029709456, 'increas'),\n",
       "   (0.0027888946, 'level'),\n",
       "   (0.002763732, 'technolog'),\n",
       "   (0.002649293, 'open'),\n",
       "   (0.0026158476, 'base'),\n",
       "   (0.002598629, '('),\n",
       "   (0.002536062, 'came'),\n",
       "   (0.0024976907, 'busi')],\n",
       "  -2.257645296818073),\n",
       " ([(0.003936744, 'pilot'),\n",
       "   (0.003618313, 'keep'),\n",
       "   (0.0034830752, 'most'),\n",
       "   (0.0033887443, 'magazin'),\n",
       "   (0.0032663764, 'volunt'),\n",
       "   (0.0032182757, 'individu'),\n",
       "   (0.003115176, 'job'),\n",
       "   (0.0030639973, 'onlin'),\n",
       "   (0.0030456823, 'januari'),\n",
       "   (0.0030246985, 'labor'),\n",
       "   (0.0029664831, 'ago'),\n",
       "   (0.0029535, 'right'),\n",
       "   (0.002947989, 'human'),\n",
       "   (0.0027142249, 'particip'),\n",
       "   (0.0026811524, 'issu'),\n",
       "   (0.00259377, 'definit'),\n",
       "   (0.0025501843, 'long'),\n",
       "   (0.0025439067, 'technolog'),\n",
       "   (0.0024075583, 'lewi'),\n",
       "   (0.0023940564, 'replac')],\n",
       "  -2.4489908452873057),\n",
       " ([(0.005167567, 'tax'),\n",
       "   (0.004531643, 'dividend'),\n",
       "   (0.0041206586, 'net'),\n",
       "   (0.003399181, 'spend'),\n",
       "   (0.0033757654, 'justic'),\n",
       "   (0.0031674162, '2014'),\n",
       "   (0.003123433, 'fund'),\n",
       "   (0.0030088006, 'cost'),\n",
       "   (0.0030041656, 'white'),\n",
       "   (0.0029970556, '–'),\n",
       "   (0.0029955732, 'big'),\n",
       "   (0.0029565694, 'job'),\n",
       "   (0.0029207894, 'poverti'),\n",
       "   (0.002759621, 'educ'),\n",
       "   (0.002714367, 'america'),\n",
       "   (0.0026508488, 'entitl'),\n",
       "   (0.0026279872, 'right'),\n",
       "   (0.0026255667, 'alaska'),\n",
       "   (0.0026174514, 'june'),\n",
       "   (0.0026143577, 'budget')],\n",
       "  -2.7273763711326264),\n",
       " ([(0.0066701686, 'oil'),\n",
       "   (0.0057393373, '2018'),\n",
       "   (0.0042523006, 'hour'),\n",
       "   (0.0039865226, 'fund'),\n",
       "   (0.0037824076, 'job'),\n",
       "   (0.003555809, 'idea'),\n",
       "   (0.003309843, 'liber'),\n",
       "   (0.003130364, 'alaska'),\n",
       "   (0.0030743638, 'magazin'),\n",
       "   (0.0030157596, 'parti'),\n",
       "   (0.0030099074, 'dividend'),\n",
       "   (0.0030031493, 'incom_could'),\n",
       "   (0.0030004047, 'wage'),\n",
       "   (0.002981962, 'content'),\n",
       "   (0.0029718108, 'women'),\n",
       "   (0.0028273826, 'present'),\n",
       "   (0.0028022553, '20'),\n",
       "   (0.0027707384, 'may'),\n",
       "   (0.0027126335, 'onlin'),\n",
       "   (0.0026526684, 'perman_fund')],\n",
       "  -3.147250305116129),\n",
       " ([(0.0062227934, 'alaska'),\n",
       "   (0.005308867, 'apf'),\n",
       "   (0.00414974, 'comput'),\n",
       "   (0.0038929486, 'oil'),\n",
       "   (0.0038474665, 'dividend'),\n",
       "   (0.003655181, 'coalit'),\n",
       "   (0.0036307778, 'purpos'),\n",
       "   (0.003492036, 'american'),\n",
       "   (0.0034724853, 'connect'),\n",
       "   (0.003367894, 'america'),\n",
       "   (0.0033260453, 'big'),\n",
       "   (0.0032665178, 'fund'),\n",
       "   (0.0028804601, 'right'),\n",
       "   (0.0027452293, 'confer'),\n",
       "   (0.0027233665, 'juli'),\n",
       "   (0.002700197, 'organ'),\n",
       "   (0.0026952617, 'presid'),\n",
       "   (0.002670958, '949'),\n",
       "   (0.0026709428, '949_articl'),\n",
       "   (0.0026709242, 'written_949')],\n",
       "  -3.252248643062803)]"
      ]
     },
     "execution_count": 68,
     "metadata": {},
     "output_type": "execute_result"
    }
   ],
   "source": [
    "lda_m2_10.top_topics(tfidfcorpus_m2[ldacorpus_m2])"
   ]
  },
  {
   "cell_type": "markdown",
   "metadata": {},
   "source": [
    "## Estimating the Quality of the Models\n"
   ]
  },
  {
   "cell_type": "markdown",
   "metadata": {},
   "source": [
    "In the following lines, we will try to estimate the quality of the models and assess therefore, which of the three models (n=3 , n=5, n=10) offers better results for our question of interest."
   ]
  },
  {
   "cell_type": "markdown",
   "metadata": {},
   "source": [
    "## Considering Log Perplexity"
   ]
  },
  {
   "cell_type": "markdown",
   "metadata": {},
   "source": [
    "Perplexity is a standard estimation done in topic modelling to assess and compare the quality of diffrerent models. Here we will use to choose the number of topics to include in the model that we want to estimate on our data. "
   ]
  },
  {
   "cell_type": "code",
   "execution_count": 45,
   "metadata": {},
   "outputs": [],
   "source": [
    "ldacorpus_perplex = ldacorpus_m2.copy() # I keep the same corpus of the filtered model\n",
    "random.shuffle(ldacorpus_perplex)\n",
    "\n",
    "\n",
    "splitidx = int(0.8 * len(ldacorpus_perplex))\n",
    "\n",
    "train = ldacorpus_perplex[:splitidx]\n",
    "test = ldacorpus_perplex[splitidx:]"
   ]
  },
  {
   "cell_type": "code",
   "execution_count": 46,
   "metadata": {},
   "outputs": [
    {
     "name": "stderr",
     "output_type": "stream",
     "text": [
      "2019-05-27 13:57:10,364 : INFO : using symmetric alpha at 0.3333333333333333\n",
      "2019-05-27 13:57:10,368 : INFO : using symmetric eta at 0.3333333333333333\n",
      "2019-05-27 13:57:10,370 : INFO : using serial LDA version on this node\n",
      "2019-05-27 13:57:10,373 : INFO : running online (single-pass) LDA training, 3 topics, 1 passes over the supplied corpus of 98 documents, updating model once every 98 documents, evaluating perplexity every 98 documents, iterating 50x with a convergence threshold of 0.001000\n",
      "2019-05-27 13:57:10,375 : WARNING : too few updates, training might not converge; consider increasing the number of passes or iterations to improve accuracy\n",
      "2019-05-27 13:57:10,745 : INFO : -7.388 per-word bound, 167.5 perplexity estimate based on a held-out corpus of 98 documents with 34100 words\n",
      "2019-05-27 13:57:10,749 : INFO : PROGRESS: pass 0, at document #98/98\n",
      "2019-05-27 13:57:10,915 : INFO : topic #0 (0.333): 0.015*\"experi\" + 0.007*\"job\" + 0.007*\"right\" + 0.006*\"polici\" + 0.006*\"individu\" + 0.005*\"effect\" + 0.005*\"big\" + 0.005*\"tax\" + 0.005*\"fund\" + 0.005*\"group\"\n",
      "2019-05-27 13:57:10,916 : INFO : topic #1 (0.333): 0.010*\"experi\" + 0.009*\"job\" + 0.009*\"tax\" + 0.007*\"big\" + 0.006*\"claim\" + 0.005*\"polici\" + 0.005*\"oil\" + 0.005*\"receiv\" + 0.005*\"individu\" + 0.005*\"increas\"\n",
      "2019-05-27 13:57:10,916 : INFO : topic #2 (0.333): 0.014*\"experi\" + 0.007*\"group\" + 0.006*\"fund\" + 0.006*\"receiv\" + 0.006*\"tax\" + 0.005*\"dividend\" + 0.005*\"big\" + 0.005*\"live\" + 0.005*\"alaska\" + 0.005*\"individu\"\n",
      "2019-05-27 13:57:10,921 : INFO : topic diff=0.610570, rho=1.000000\n",
      "2019-05-27 13:57:11,014 : INFO : -7.213 per-word bound, 148.4 perplexity estimate based on a held-out corpus of 25 documents with 9078 words\n",
      "2019-05-27 13:57:11,211 : INFO : -7.213 per-word bound, 148.4 perplexity estimate based on a held-out corpus of 25 documents with 9078 words\n",
      "2019-05-27 13:57:11,211 : INFO : using symmetric alpha at 0.2\n",
      "2019-05-27 13:57:11,211 : INFO : using symmetric eta at 0.2\n",
      "2019-05-27 13:57:11,218 : INFO : using serial LDA version on this node\n",
      "2019-05-27 13:57:11,223 : INFO : running online (single-pass) LDA training, 5 topics, 1 passes over the supplied corpus of 98 documents, updating model once every 98 documents, evaluating perplexity every 98 documents, iterating 50x with a convergence threshold of 0.001000\n",
      "2019-05-27 13:57:11,225 : WARNING : too few updates, training might not converge; consider increasing the number of passes or iterations to improve accuracy\n"
     ]
    },
    {
     "name": "stdout",
     "output_type": "stream",
     "text": [
      "-7.213239850885517 -65481.43609440327\n"
     ]
    },
    {
     "name": "stderr",
     "output_type": "stream",
     "text": [
      "2019-05-27 13:57:11,591 : INFO : -7.514 per-word bound, 182.8 perplexity estimate based on a held-out corpus of 98 documents with 34100 words\n",
      "2019-05-27 13:57:11,596 : INFO : PROGRESS: pass 0, at document #98/98\n",
      "2019-05-27 13:57:11,947 : INFO : topic #0 (0.200): 0.011*\"job\" + 0.009*\"experi\" + 0.008*\"tax\" + 0.007*\"individu\" + 0.007*\"right\" + 0.007*\"big\" + 0.006*\"live\" + 0.005*\"reason\" + 0.005*\"receiv\" + 0.004*\"societi\"\n",
      "2019-05-27 13:57:11,952 : INFO : topic #1 (0.200): 0.010*\"big\" + 0.006*\"dividend\" + 0.006*\"experi\" + 0.006*\"tax\" + 0.005*\"fund\" + 0.005*\"unit\" + 0.005*\"job\" + 0.005*\"idea\" + 0.005*\"polici\" + 0.004*\"mean\"\n",
      "2019-05-27 13:57:11,954 : INFO : topic #2 (0.200): 0.018*\"experi\" + 0.009*\"job\" + 0.007*\"group\" + 0.007*\"tax\" + 0.006*\"individu\" + 0.006*\"particip\" + 0.006*\"receiv\" + 0.006*\"effect\" + 0.005*\"benefit\" + 0.005*\"cash\"\n",
      "2019-05-27 13:57:11,956 : INFO : topic #3 (0.200): 0.014*\"experi\" + 0.009*\"polici\" + 0.007*\"tax\" + 0.007*\"claim\" + 0.006*\"individu\" + 0.006*\"right\" + 0.005*\"increas\" + 0.005*\"big\" + 0.005*\"help\" + 0.005*\"alaska\"\n",
      "2019-05-27 13:57:11,963 : INFO : topic #4 (0.200): 0.015*\"experi\" + 0.010*\"fund\" + 0.010*\"oil\" + 0.008*\"alaska\" + 0.007*\"dividend\" + 0.006*\"tax\" + 0.006*\"polici\" + 0.006*\"apf\" + 0.006*\"right\" + 0.005*\"receiv\"\n",
      "2019-05-27 13:57:11,965 : INFO : topic diff=0.650863, rho=1.000000\n",
      "2019-05-27 13:57:12,106 : INFO : -7.555 per-word bound, 188.0 perplexity estimate based on a held-out corpus of 25 documents with 9078 words\n",
      "2019-05-27 13:57:12,343 : INFO : -7.555 per-word bound, 188.0 perplexity estimate based on a held-out corpus of 25 documents with 9078 words\n",
      "2019-05-27 13:57:12,346 : INFO : using symmetric alpha at 0.1\n",
      "2019-05-27 13:57:12,347 : INFO : using symmetric eta at 0.1\n",
      "2019-05-27 13:57:12,350 : INFO : using serial LDA version on this node\n",
      "2019-05-27 13:57:12,354 : INFO : running online (single-pass) LDA training, 10 topics, 1 passes over the supplied corpus of 98 documents, updating model once every 98 documents, evaluating perplexity every 98 documents, iterating 50x with a convergence threshold of 0.001000\n",
      "2019-05-27 13:57:12,355 : WARNING : too few updates, training might not converge; consider increasing the number of passes or iterations to improve accuracy\n"
     ]
    },
    {
     "name": "stdout",
     "output_type": "stream",
     "text": [
      "-7.554786855532593 -68581.36701524258\n"
     ]
    },
    {
     "name": "stderr",
     "output_type": "stream",
     "text": [
      "2019-05-27 13:57:12,750 : INFO : -7.824 per-word bound, 226.6 perplexity estimate based on a held-out corpus of 98 documents with 34100 words\n",
      "2019-05-27 13:57:12,754 : INFO : PROGRESS: pass 0, at document #98/98\n",
      "2019-05-27 13:57:13,095 : INFO : topic #3 (0.100): 0.019*\"experi\" + 0.009*\"big\" + 0.007*\"receiv\" + 0.006*\"benefit\" + 0.005*\"group\" + 0.005*\"current\" + 0.005*\"individu\" + 0.005*\"live\" + 0.005*\"right\" + 0.005*\"uncondit\"\n",
      "2019-05-27 13:57:13,098 : INFO : topic #9 (0.100): 0.010*\"alaska\" + 0.009*\"claim\" + 0.009*\"tax\" + 0.009*\"oil\" + 0.008*\"fund\" + 0.007*\"dividend\" + 0.007*\"increas\" + 0.006*\"job\" + 0.005*\"experi\" + 0.005*\"right\"\n",
      "2019-05-27 13:57:13,103 : INFO : topic #1 (0.100): 0.014*\"big\" + 0.009*\"tax\" + 0.007*\"polici\" + 0.006*\"fund\" + 0.006*\"experi\" + 0.005*\"oil\" + 0.005*\"right\" + 0.005*\"reason\" + 0.005*\"money\" + 0.005*\"alaska\"\n",
      "2019-05-27 13:57:13,104 : INFO : topic #2 (0.100): 0.017*\"job\" + 0.010*\"experi\" + 0.009*\"dividend\" + 0.007*\"tax\" + 0.007*\"individu\" + 0.006*\"fund\" + 0.006*\"receiv\" + 0.006*\"live\" + 0.005*\"provid\" + 0.005*\"it\"\n",
      "2019-05-27 13:57:13,106 : INFO : topic #5 (0.100): 0.016*\"experi\" + 0.009*\"polici\" + 0.007*\"group\" + 0.006*\"receiv\" + 0.005*\"individu\" + 0.005*\"effect\" + 0.005*\"particip\" + 0.005*\"right\" + 0.005*\"tax\" + 0.005*\"claim\"\n",
      "2019-05-27 13:57:13,108 : INFO : topic diff=0.761439, rho=1.000000\n",
      "2019-05-27 13:57:13,238 : INFO : -8.571 per-word bound, 380.2 perplexity estimate based on a held-out corpus of 25 documents with 9078 words\n",
      "2019-05-27 13:57:13,464 : INFO : -8.570 per-word bound, 380.1 perplexity estimate based on a held-out corpus of 25 documents with 9078 words\n"
     ]
    },
    {
     "name": "stdout",
     "output_type": "stream",
     "text": [
      "-8.570730845888534 -77804.88682293892\n"
     ]
    }
   ],
   "source": [
    "perplexityvalues = [] # I estimate the perplexity values for the model with 3, 5, 10 topics and I store tham in this list.\n",
    "for n in [3, 5, 10]:\n",
    "    lda = models.LdaModel(train, id2word=id2word_m2, num_topics=n)\n",
    "    print(lda.log_perplexity(test), lda.bound(test))\n",
    "    perplexityvalues.append((n, lda.log_perplexity(test)))"
   ]
  },
  {
   "cell_type": "code",
   "execution_count": 47,
   "metadata": {},
   "outputs": [
    {
     "name": "stdout",
     "output_type": "stream",
     "text": [
      "[(3, -7.213163527341424), (5, -7.5548423557692255), (10, -8.570158792844715)]\n"
     ]
    }
   ],
   "source": [
    "print(perplexityvalues) #perplexity scores for each model"
   ]
  },
  {
   "cell_type": "markdown",
   "metadata": {},
   "source": [
    "Looking at the perplexity values, it is possible to see that the lowest values is present in the model estimated on only three topics. However, the model with 5 topics yields a comparable and not too much higher perplexity score.  Following the principle that the lower the score, the better the model for the given data, we could state that the model with 3 topics is the best one for the considered data. "
   ]
  },
  {
   "cell_type": "markdown",
   "metadata": {},
   "source": [
    "Here we can see a visual representation of the change in perplexity score when estimatingthe model for more topics:"
   ]
  },
  {
   "cell_type": "code",
   "execution_count": 44,
   "metadata": {},
   "outputs": [
    {
     "data": {
      "text/plain": [
       "([<matplotlib.axis.XTick at 0x12f913a5278>,\n",
       "  <matplotlib.axis.XTick at 0x12f919db668>,\n",
       "  <matplotlib.axis.XTick at 0x12f8be54dd8>],\n",
       " <a list of 3 Text xticklabel objects>)"
      ]
     },
     "execution_count": 44,
     "metadata": {},
     "output_type": "execute_result"
    },
    {
     "data": {
      "image/png": "[encoded data removed]",
      "text/plain": [
       "<Figure size 432x288 with 1 Axes>"
      ]
     },
     "metadata": {
      "needs_background": "light"
     },
     "output_type": "display_data"
    }
   ],
   "source": [
    "fig, ax = plt.subplots()\n",
    "plt.plot([e[1] for e in perplexityvalues])\n",
    "plt.xticks(range(len(perplexityvalues)), [e[0] for e in perplexityvalues])"
   ]
  },
  {
   "cell_type": "markdown",
   "metadata": {},
   "source": [
    "## Topic Coherence"
   ]
  },
  {
   "cell_type": "markdown",
   "metadata": {},
   "source": [
    "In this section, we will : \n",
    "- estimate the difference in model coherence between the models estimated by filtering or not filtering the extremes in the corpus. This will be done in order to asess whether filtering does improve the quality of the model or not. \n",
    "- estimate the difference in coherence among the model estimated on 3, 5, 10 topics. \n"
   ]
  },
  {
   "cell_type": "markdown",
   "metadata": {},
   "source": [
    "### Filtered vs Non- Filtered"
   ]
  },
  {
   "cell_type": "markdown",
   "metadata": {},
   "source": [
    "DISCLAIMER: I have here arbitrarely choose to estimate the difference on the two models esti,mated for 5 topics. "
   ]
  },
  {
   "cell_type": "code",
   "execution_count": 52,
   "metadata": {},
   "outputs": [
    {
     "name": "stdout",
     "output_type": "stream",
     "text": [
      "Coherence of the tf-idf model without extemes: -2.0868994483669967\n",
      "Coherence of tf-idf model with extremes = -4.993401237190249\n"
     ]
    }
   ],
   "source": [
    "cm3 = models.CoherenceModel(model=lda_m1_5, corpus=ldacorpus_m1, dictionary= id2word_m1, coherence='u_mass')  \n",
    "tfidffcoh = cm3.get_coherence()\n",
    "\n",
    "cm2 = models.CoherenceModel(model=lda_m2_5, corpus=ldacorpus_m2, dictionary= id2word_m2, coherence='u_mass')  \n",
    "tfidffiltercoh = cm2.get_coherence()\n",
    "print( \"Coherence of the tf-idf model without extemes: {}\\nCoherence of tf-idf model with extremes = {}\".format(tfidffiltercoh,tfidffcoh ))"
   ]
  },
  {
   "cell_type": "markdown",
   "metadata": {},
   "source": [
    "As we can see here, the coherence of our model is imporved by removing the extremes (the coherence score is higher fot the model without extremes rather than the one before.)"
   ]
  },
  {
   "cell_type": "markdown",
   "metadata": {},
   "source": [
    "### Different Number of Topics"
   ]
  },
  {
   "cell_type": "code",
   "execution_count": 56,
   "metadata": {},
   "outputs": [
    {
     "name": "stdout",
     "output_type": "stream",
     "text": [
      "Coherence of Model with 3 topics: -2.0748614222604584\n",
      "Coherence of Model with 5 topics = -2.0868994483669967\n",
      "Coherence of Model with 10 topics = -2.2316611832141597\n"
     ]
    }
   ],
   "source": [
    "cm2_3 = models.CoherenceModel(model=lda_m2_3, corpus=ldacorpus_m2, dictionary= id2word_m2, coherence='u_mass')  \n",
    "cm2_3_coh = cm2_3.get_coherence()\n",
    "\n",
    "cm2_5 = models.CoherenceModel(model=lda_m2_5, corpus=ldacorpus_m2, dictionary= id2word_m2, coherence='u_mass')  \n",
    "cm2_5_coh = cm2_5.get_coherence()\n",
    "\n",
    "cm2_10 = models.CoherenceModel(model=lda_m2_10, corpus=ldacorpus_m2, dictionary= id2word_m2, coherence='u_mass')  \n",
    "cm2_10_coh = cm2_10.get_coherence()\n",
    "\n",
    "print( \"Coherence of Model with 3 topics: {}\\nCoherence of Model with 5 topics = {}\\nCoherence of Model with 10 topics = {}\".format(cm2_3_coh, cm2_5_coh, cm2_10_coh))"
   ]
  },
  {
   "cell_type": "markdown",
   "metadata": {},
   "source": [
    "As we can seee here, the highest coherence is associated with the model estimated on three topics. This was also the model with the lowest perplexity score: it seems to be the best model for the considered data.  "
   ]
  },
  {
   "cell_type": "code",
   "execution_count": 69,
   "metadata": {},
   "outputs": [
    {
     "data": {
      "text/html": [
       "\n",
       "<link rel=\"stylesheet\" type=\"text/css\" href=\"https://cdn.rawgit.com/bmabey/pyLDAvis/files/ldavis.v1.0.0.css\">\n",
       "\n",
       "\n",
       "<div id=\"ldavis_el995213038117005607305678457\"></div>\n",
       "<script type=\"text/javascript\">\n",
       "\n",
       "var ldavis_el995213038117005607305678457_data = {\"mdsDat\": {\"x\": [0.00724303358025756, 6.197900655774653e-05, -0.007305012586815312], \"y\": [0.003514566695785969, -0.006940428518140956, 0.0034258618223549867], \"topics\": [1, 2, 3], \"cluster\": [1, 1, 1], \"Freq\": [38.08909225463867, 37.23032760620117, 24.680583953857422]}, \"tinfo\": {\"Category\": [\"Default\", \"Default\", \"Default\", \"Default\", \"Default\", \"Default\", \"Default\", \"Default\", \"Default\", \"Default\", \"Default\", \"Default\", \"Default\", \"Default\", \"Default\", \"Default\", \"Default\", \"Default\", \"Default\", \"Default\", \"Default\", \"Default\", \"Default\", \"Default\", \"Default\", \"Default\", \"Default\", \"Default\", \"Default\", \"Default\", \"Topic1\", \"Topic1\", \"Topic1\", \"Topic1\", \"Topic1\", \"Topic1\", \"Topic1\", \"Topic1\", \"Topic1\", \"Topic1\", \"Topic1\", \"Topic1\", \"Topic1\", \"Topic1\", \"Topic1\", \"Topic1\", \"Topic1\", \"Topic1\", \"Topic1\", \"Topic1\", \"Topic1\", \"Topic1\", \"Topic1\", \"Topic1\", \"Topic1\", \"Topic1\", \"Topic1\", \"Topic1\", \"Topic1\", \"Topic1\", \"Topic1\", \"Topic1\", \"Topic1\", \"Topic1\", \"Topic1\", \"Topic1\", \"Topic1\", \"Topic1\", \"Topic1\", \"Topic1\", \"Topic1\", \"Topic1\", \"Topic1\", \"Topic1\", \"Topic1\", \"Topic1\", \"Topic1\", \"Topic1\", \"Topic1\", \"Topic1\", \"Topic2\", \"Topic2\", \"Topic2\", \"Topic2\", \"Topic2\", \"Topic2\", \"Topic2\", \"Topic2\", \"Topic2\", \"Topic2\", \"Topic2\", \"Topic2\", \"Topic2\", \"Topic2\", \"Topic2\", \"Topic2\", \"Topic2\", \"Topic2\", \"Topic2\", \"Topic2\", \"Topic2\", \"Topic2\", \"Topic2\", \"Topic2\", \"Topic2\", \"Topic2\", \"Topic2\", \"Topic2\", \"Topic2\", \"Topic2\", \"Topic2\", \"Topic2\", \"Topic2\", \"Topic2\", \"Topic2\", \"Topic2\", \"Topic2\", \"Topic2\", \"Topic2\", \"Topic2\", \"Topic2\", \"Topic2\", \"Topic2\", \"Topic2\", \"Topic2\", \"Topic2\", \"Topic2\", \"Topic2\", \"Topic2\", \"Topic2\", \"Topic2\", \"Topic3\", \"Topic3\", \"Topic3\", \"Topic3\", \"Topic3\", \"Topic3\", \"Topic3\", \"Topic3\", \"Topic3\", \"Topic3\", \"Topic3\", \"Topic3\", \"Topic3\", \"Topic3\", \"Topic3\", \"Topic3\", \"Topic3\", \"Topic3\", \"Topic3\", \"Topic3\", \"Topic3\", \"Topic3\", \"Topic3\", \"Topic3\", \"Topic3\", \"Topic3\", \"Topic3\", \"Topic3\", \"Topic3\", \"Topic3\", \"Topic3\", \"Topic3\", \"Topic3\", \"Topic3\", \"Topic3\", \"Topic3\", \"Topic3\", \"Topic3\", \"Topic3\", \"Topic3\", \"Topic3\", \"Topic3\", \"Topic3\", \"Topic3\", \"Topic3\", \"Topic3\", \"Topic3\", \"Topic3\", \"Topic3\", \"Topic3\", \"Topic3\", \"Topic3\", \"Topic3\", \"Topic3\", \"Topic3\", \"Topic3\", \"Topic3\", \"Topic3\"], \"Freq\": [83.0, 59.0, 93.0, 47.0, 39.0, 158.0, 39.0, 108.0, 50.0, 62.0, 62.0, 79.0, 47.0, 47.0, 47.0, 62.0, 62.0, 48.0, 53.0, 49.0, 50.0, 50.0, 62.0, 56.0, 50.0, 83.0, 41.0, 50.0, 41.0, 65.0, 50.405181884765625, 30.297008514404297, 26.768484115600586, 30.241458892822266, 36.36497497558594, 35.95427703857422, 92.49283599853516, 22.422317504882812, 22.158828735351562, 32.333316802978516, 30.214183807373047, 29.884260177612305, 30.00750732421875, 31.538301467895508, 23.4862003326416, 21.788135528564453, 25.00982666015625, 19.43741226196289, 19.751840591430664, 30.347793579101562, 27.874469757080078, 33.62074279785156, 27.71295738220215, 20.494844436645508, 24.446516036987305, 31.325658798217773, 19.099626541137695, 24.715909957885742, 42.75835418701172, 21.616565704345703, 29.145601272583008, 42.19844436645508, 36.07911682128906, 50.31962585449219, 26.59791374206543, 29.125415802001953, 47.86069869995117, 30.25749969482422, 32.785194396972656, 50.37625503540039, 45.202877044677734, 32.35715103149414, 27.92770767211914, 32.357582092285156, 30.66503143310547, 34.15546798706055, 31.6738224029541, 30.629486083984375, 30.253660202026367, 31.100072860717773, 40.25402069091797, 32.73917770385742, 33.36235046386719, 27.83487319946289, 26.238855361938477, 25.03428077697754, 26.498939514160156, 40.19733428955078, 33.83149719238281, 35.91671371459961, 24.03323745727539, 21.93661117553711, 22.83285903930664, 45.566925048828125, 29.007244110107422, 28.66018295288086, 26.483945846557617, 17.35409927368164, 26.320722579956055, 24.174522399902344, 24.912057876586914, 50.289554595947266, 17.350603103637695, 32.75339126586914, 25.510080337524414, 22.79068946838379, 23.290019989013672, 24.363407135009766, 17.07240867614746, 18.223947525024414, 22.040687561035156, 52.43201446533203, 56.04655456542969, 30.788307189941406, 55.259613037109375, 45.777809143066406, 44.9794921875, 33.45405960083008, 34.33754348754883, 41.67538070678711, 28.44023323059082, 30.746232986450195, 36.846553802490234, 46.51816940307617, 28.583730697631836, 28.686616897583008, 30.127323150634766, 28.7221622467041, 29.26344871520996, 29.337169647216797, 29.003902435302734, 49.11907958984375, 28.15024757385254, 18.476194381713867, 17.61211395263672, 20.905651092529297, 13.968038558959961, 16.07454490661621, 16.24374008178711, 19.57280731201172, 16.059040069580078, 35.833614349365234, 17.989830017089844, 15.608635902404785, 16.341880798339844, 17.897254943847656, 12.410711288452148, 18.224390029907227, 13.228741645812988, 18.844799041748047, 18.075395584106445, 18.349567413330078, 14.153428077697754, 17.595870971679688, 12.073899269104004, 15.740483283996582, 15.620281219482422, 13.946645736694336, 21.988121032714844, 14.252863883972168, 12.504389762878418, 19.589981079101562, 17.893421173095703, 19.864912033081055, 16.737171173095703, 21.755535125732422, 21.292444229125977, 21.248977661132812, 24.423864364624023, 18.681331634521484, 20.707555770874023, 29.636003494262695, 28.36267852783203, 23.536479949951172, 22.177274703979492, 20.466833114624023, 21.59046173095703, 18.693737030029297, 22.026954650878906, 20.860876083374023, 23.539793014526367, 19.305639266967773, 18.879653930664062, 19.045989990234375, 18.637975692749023, 18.731889724731445, 18.89911460876465, 19.33429527282715, 18.72443389892578], \"Term\": [\"properti\", \"justic\", \"right\", \"owner\", \"count\", \"experi\", \"pleas\", \"tax\", \"depress\", \"bill\", \"2018\", \"particip\", \"written_949\", \"949\", \"entitl\", \"spend\", \"octob\", \"video\", \"2014\", \"daili\", \"privat\", \"vote\", \"system\", \"august\", \"argu\", \"individu\", \"contract\", \"juli\", \"septemb\", \"volunt\", \"particip\", \"difficulti\", \"influenc\", \"incom_experi\", \"earli\", \"onlin\", \"experi\", \"promis\", \"complex\", \"play\", \"hour\", \"magazin\", \"experiment\", \"understand\", \"impli\", \"content\", \"finland\", \"1970s\", \"dutch\", \"condit\", \"mcfarland\", \"billion\", \"keep\", \"surpris\", \"communic\", \"market\", \"9\", \"save\", \"polici\", \"togeth\", \"confer\", \"individu\", \"result\", \"oil\", \"canadian\", \"present\", \"dividend\", \"januari\", \"claim\", \"big\", \"alaska\", \"effect\", \"still\", \"lewi\", \"citizen\", \"job\", \"apf\", \"group\", \"michael_lewi\", \"fund\", \"bill\", \"vote\", \"2014\", \"republican\", \"mainstream\", \"total\", \"tax_credit\", \"cost\", \"model\", \"pay\", \"democrat\", \"we'r\", \"trust\", \"apf\", \"senat\", \"credit\", \"comput\", \"guarante_(big)\", \"cut\", \"introduc\", \"cultur\", \"fund\", \"(big)\", \"autom\", \"conserv\", \"5\", \"attent\", \"welfar_system\", \"vast\", \"extent\", \"awar\", \"tax\", \"alaska\", \"perman\", \"big\", \"dividend\", \"oil\", \"idea\", \"june\", \"job\", \"perman_fund\", \"unit\", \"right\", \"experi\", \"net\", \"definit\", \"resourc\", \"volunt\", \"citizen\", \"labor\", \"receiv\", \"properti\", \"justic\", \"count\", \"pleas\", \"owner\", \"easi\", \"contract\", \"septemb\", \"depress\", \"observ\", \"right\", \"written_949\", \"busi\", \"pursuit\", \"949\", \"consumpt\", \"video\", \"(\", \"privat\", \"white\", \"juli\", \"they'r\", \"daili\", \"slight\", \"wealth\", \"capit\", \"four\", \"spend\", \"principl\", \"open\", \"person\", \"base\", \"august\", \"entitl\", \"octob\", \"system\", \"2018\", \"labor\", \"natur\", \"argument\", \"tax\", \"job\", \"lewi\", \"money\", \"volunt\", \"group\", \"rule\", \"individu\", \"michael_lewi\", \"big\", \"america\", \"net\", \"societi\", \"organ\", \"live\", \"june\", \"experi\", \"human\"], \"Total\": [83.0, 59.0, 93.0, 47.0, 39.0, 158.0, 39.0, 108.0, 50.0, 62.0, 62.0, 79.0, 47.0, 47.0, 47.0, 62.0, 62.0, 48.0, 53.0, 49.0, 50.0, 50.0, 62.0, 56.0, 50.0, 83.0, 41.0, 50.0, 41.0, 65.0, 79.94566345214844, 50.99822998046875, 45.33717346191406, 51.253501892089844, 61.771183013916016, 61.33855438232422, 158.3452911376953, 39.06975173950195, 39.43650436401367, 58.109771728515625, 55.89268493652344, 55.367401123046875, 55.827945709228516, 58.70769500732422, 43.760780334472656, 40.96772766113281, 47.227821350097656, 36.8580322265625, 37.65331268310547, 57.9496955871582, 53.32245635986328, 64.58091735839844, 53.262107849121094, 39.46574401855469, 47.112945556640625, 60.41838073730469, 36.8389778137207, 47.94282150268555, 82.97911071777344, 42.22831726074219, 57.024322509765625, 83.09085845947266, 71.49423217773438, 105.11505889892578, 52.59367752075195, 58.32408905029297, 107.35191345214844, 61.84671401977539, 70.1492691040039, 129.1756591796875, 117.53208923339844, 70.62281799316406, 57.27399444580078, 78.86376953125, 71.06875610351562, 104.19352722167969, 85.95881652832031, 75.82028198242188, 74.91822814941406, 97.08535766601562, 62.01189041137695, 50.981239318847656, 53.037994384765625, 46.838768005371094, 44.69855499267578, 43.293582916259766, 46.29180145263672, 71.18741607666016, 60.41902160644531, 66.42838287353516, 44.92979431152344, 41.05681610107422, 42.775142669677734, 85.95881652832031, 54.870849609375, 54.26735305786133, 50.248680114746094, 33.22407531738281, 50.422813415527344, 46.33992004394531, 47.98603820800781, 97.08535766601562, 33.84085464477539, 63.964637756347656, 49.88286209106445, 44.58607864379883, 45.64702606201172, 47.763851165771484, 33.783119201660156, 36.51079559326172, 44.224369049072266, 108.00762176513672, 117.53208923339844, 63.82163619995117, 129.1756591796875, 107.35191345214844, 105.11505889892578, 73.25885009765625, 76.48043060302734, 104.19352722167969, 59.451805114746094, 67.2176284790039, 93.53572082519531, 158.3452911376953, 62.39289093017578, 64.29112243652344, 74.33686065673828, 65.41706085205078, 71.06875610351562, 76.5745620727539, 71.44415283203125, 83.58995056152344, 59.354644775390625, 39.042938232421875, 39.615848541259766, 47.064456939697266, 35.611297607421875, 41.051658630371094, 41.580352783203125, 50.527130126953125, 41.572566986083984, 93.53572082519531, 47.380226135253906, 41.19537353515625, 43.24065017700195, 47.430023193359375, 33.28326416015625, 48.987884521484375, 35.63006591796875, 50.87198257446289, 49.182891845703125, 50.35329055786133, 38.95684051513672, 49.128379821777344, 33.81184387207031, 44.08708190917969, 44.002296447753906, 39.324607849121094, 62.001869201660156, 40.329586029052734, 35.54694747924805, 55.69879150390625, 50.89888000488281, 56.814292907714844, 47.64372253417969, 62.810909271240234, 62.115501403808594, 62.90493392944336, 76.5745620727539, 55.04948806762695, 63.099853515625, 108.00762176513672, 104.19352722167969, 78.86376953125, 72.0555648803711, 65.41706085205078, 75.82028198242188, 55.824710845947266, 83.09085845947266, 74.91822814941406, 129.1756591796875, 64.22543334960938, 62.39289093017578, 66.4973373413086, 59.06067657470703, 62.74964904785156, 76.48043060302734, 158.3452911376953, 63.697532653808594], \"loglift\": [30.0, 29.0, 28.0, 27.0, 26.0, 25.0, 24.0, 23.0, 22.0, 21.0, 20.0, 19.0, 18.0, 17.0, 16.0, 15.0, 14.0, 13.0, 12.0, 11.0, 10.0, 9.0, 8.0, 7.0, 6.0, 5.0, 4.0, 3.0, 2.0, 1.0, 0.5040000081062317, 0.44449999928474426, 0.4383000135421753, 0.4377000033855438, 0.43540000915527344, 0.4311000108718872, 0.4275999963283539, 0.4099999964237213, 0.3887999951839447, 0.3790000081062317, 0.35010001063346863, 0.34860000014305115, 0.34439998865127563, 0.34389999508857727, 0.34290000796318054, 0.33379998803138733, 0.3294999897480011, 0.3253999948501587, 0.32010000944137573, 0.31839999556541443, 0.3165999948978424, 0.3125, 0.31189998984336853, 0.3100000023841858, 0.3091999888420105, 0.3084000051021576, 0.3084000051021576, 0.302700012922287, 0.30219998955726624, 0.2955999970436096, 0.29409998655319214, 0.28769999742507935, 0.28130000829696655, 0.22859999537467957, 0.28349998593330383, 0.27079999446868896, 0.1573999971151352, 0.25029999017715454, 0.2046000063419342, 0.023600000888109207, 0.009700000286102295, 0.18469999730587006, 0.24699999392032623, 0.07440000027418137, 0.12470000237226486, -0.1500999927520752, -0.03310000151395798, 0.058800000697374344, 0.05849999934434891, -0.17309999465942383, 0.555899977684021, 0.545199990272522, 0.5245000123977661, 0.4675999879837036, 0.4553000032901764, 0.44029998779296875, 0.4302000105381012, 0.4165000021457672, 0.4081000089645386, 0.37310001254081726, 0.36239999532699585, 0.3612000048160553, 0.3603000044822693, 0.35339999198913574, 0.350600004196167, 0.3495999872684479, 0.3476000130176544, 0.3386000096797943, 0.33799999952316284, 0.33730000257492065, 0.33250001072883606, 0.3303000032901764, 0.3199999928474426, 0.31869998574256897, 0.3174000084400177, 0.31700000166893005, 0.3151000142097473, 0.3149000108242035, 0.30550000071525574, 0.29319998621940613, 0.29170000553131104, 0.2653999924659729, 0.2475000023841858, 0.2590999901294708, 0.1388999968767166, 0.13570000231266022, 0.13920000195503235, 0.20419999957084656, 0.18729999661445618, 0.07169999927282333, 0.2506999969482422, 0.20589999854564667, 0.05649999901652336, -0.23690000176429749, 0.20739999413490295, 0.181099995970726, 0.08489999920129776, 0.164900004863739, 0.1006999984383583, 0.028599999845027924, 0.08659999817609787, 0.8675000071525574, 0.6531999707221985, 0.6510000228881836, 0.5885000228881836, 0.5877000093460083, 0.4632999897003174, 0.46160000562667847, 0.459199994802475, 0.45080000162124634, 0.4480000138282776, 0.43970000743865967, 0.4307999908924103, 0.4287000000476837, 0.4260999858379364, 0.4244999885559082, 0.41269999742507935, 0.41029998660087585, 0.4083999991416931, 0.40610000491142273, 0.39820000529289246, 0.3896999955177307, 0.38670000433921814, 0.3723999857902527, 0.3693999946117401, 0.3691999912261963, 0.3634999990463257, 0.36250001192092896, 0.36250001192092896, 0.35899999737739563, 0.35440000891685486, 0.35420000553131104, 0.35370001196861267, 0.3483000099658966, 0.3529999852180481, 0.33889999985694885, 0.32850000262260437, 0.31380000710487366, 0.2563999891281128, 0.31839999556541443, 0.2849000096321106, 0.10589999705553055, 0.09799999743700027, 0.1899999976158142, 0.2207999974489212, 0.23720000684261322, 0.14300000667572021, 0.3050999939441681, 0.07150000333786011, 0.12060000002384186, -0.30329999327659607, 0.1972000002861023, 0.2037999927997589, 0.14880000054836273, 0.24580000340938568, 0.19020000100135803, 0.0012000000569969416, -0.7037000060081482, 0.17479999363422394], \"logprob\": [30.0, 29.0, 28.0, 27.0, 26.0, 25.0, 24.0, 23.0, 22.0, 21.0, 20.0, 19.0, 18.0, 17.0, 16.0, 15.0, 14.0, 13.0, 12.0, 11.0, 10.0, 9.0, 8.0, 7.0, 6.0, 5.0, 4.0, 3.0, 2.0, 1.0, -5.787799835205078, -6.296800136566162, -6.420599937438965, -6.298600196838379, -6.114200115203857, -6.1255998611450195, -5.180699825286865, -6.597799777984619, -6.609600067138672, -6.2316999435424805, -6.299499988555908, -6.310500144958496, -6.306399822235107, -6.2565999031066895, -6.551400184631348, -6.626500129699707, -6.48859977722168, -6.740600109100342, -6.724599838256836, -6.295100212097168, -6.380099773406982, -6.192699909210205, -6.385900020599365, -6.687699794769287, -6.51140022277832, -6.263400077819824, -6.758200168609619, -6.500400066375732, -5.952300071716309, -6.634399890899658, -6.3354997634887695, -5.9654998779296875, -6.122099876403809, -5.789400100708008, -6.427000045776367, -6.33620023727417, -5.8394999504089355, -6.298099994659424, -6.217899799346924, -5.788300037384033, -5.896699905395508, -6.230999946594238, -6.378200054168701, -6.230999946594238, -6.2846999168396, -6.1768999099731445, -6.252399921417236, -6.285900115966797, -6.2982001304626465, -6.270599842071533, -5.989799976348877, -6.196499824523926, -6.177599906921387, -6.358799934387207, -6.417799949645996, -6.464799880981445, -6.407899856567383, -5.991199970245361, -6.163599967956543, -6.103799819946289, -6.5055999755859375, -6.59689998626709, -6.55679988861084, -5.865900039672852, -6.317500114440918, -6.329500198364258, -6.4085001945495605, -6.831200122833252, -6.414700031280518, -6.49970006942749, -6.469699859619141, -5.767199993133545, -6.831399917602539, -6.196000099182129, -6.446000099182129, -6.558700084686279, -6.5370001792907715, -6.492000102996826, -6.847599983215332, -6.782299995422363, -6.592199802398682, -5.725500106811523, -5.658899784088135, -6.257900238037109, -5.672999858856201, -5.861199855804443, -5.878799915313721, -6.174900054931641, -6.148799896240234, -5.955100059509277, -6.337200164794922, -6.259300231933594, -6.0782999992370605, -5.845200061798096, -6.332200050354004, -6.32859992980957, -6.279600143432617, -6.327400207519531, -6.308700084686279, -6.30620002746582, -6.317599773406982, -5.379700183868408, -5.936399936676025, -6.357399940490723, -6.405300140380859, -6.23390007019043, -6.637199878692627, -6.496699810028076, -6.486199855804443, -6.299799919128418, -6.497700214385986, -5.695000171661377, -6.384099960327148, -6.526100158691406, -6.480199813842773, -6.3892998695373535, -6.75540018081665, -6.371200084686279, -6.691500186920166, -6.337699890136719, -6.37939977645874, -6.364299774169922, -6.624000072479248, -6.406300067901611, -6.782899856567383, -6.5177001953125, -6.525400161743164, -6.638700008392334, -6.1834001541137695, -6.617000102996826, -6.747900009155273, -6.298900127410889, -6.389500141143799, -6.284999847412109, -6.456299781799316, -6.1940999031066895, -6.21560001373291, -6.217599868774414, -6.078400135040283, -6.346399784088135, -6.2434000968933105, -5.884900093078613, -5.928899765014648, -6.1153998374938965, -6.174900054931641, -6.255099773406982, -6.201700210571289, -6.345699787139893, -6.181700229644775, -6.236100196838379, -6.115200042724609, -6.313499927520752, -6.3358001708984375, -6.327099800109863, -6.348700046539307, -6.343699932098389, -6.334799766540527, -6.312099933624268, -6.344099998474121]}, \"token.table\": {\"Topic\": [1, 2, 3, 1, 2, 3, 1, 2, 3, 1, 2, 3, 1, 2, 3, 1, 2, 3, 1, 2, 3, 1, 2, 3, 1, 2, 3, 1, 2, 3, 1, 2, 3, 1, 2, 3, 1, 2, 3, 1, 2, 3, 1, 2, 3, 1, 2, 3, 1, 2, 3, 1, 2, 3, 1, 2, 3, 1, 2, 3, 1, 2, 3, 1, 2, 3, 1, 2, 3, 1, 2, 3, 1, 2, 3, 1, 2, 3, 1, 2, 3, 1, 2, 3, 1, 2, 3, 1, 2, 3, 1, 2, 3, 1, 2, 3, 1, 2, 3, 1, 2, 3, 1, 2, 3, 1, 2, 3, 1, 2, 3, 1, 2, 3, 1, 2, 3, 1, 2, 3, 1, 2, 3, 1, 2, 3, 1, 2, 3, 1, 2, 3, 1, 2, 3, 1, 2, 3, 1, 2, 3, 1, 2, 3, 1, 2, 3, 1, 2, 3, 1, 2, 3, 1, 2, 3, 1, 2, 3, 1, 2, 3, 1, 2, 3, 1, 2, 3, 1, 2, 3, 1, 2, 3, 1, 2, 3, 1, 2, 3, 1, 2, 3, 1, 2, 3, 1, 2, 3, 1, 2, 3, 1, 2, 3, 1, 2, 3, 1, 2, 3, 1, 2, 3, 1, 2, 3, 1, 2, 3, 1, 2, 3, 1, 2, 3, 1, 2, 3, 1, 2, 3, 1, 2, 3, 1, 2, 3, 1, 2, 3, 1, 2, 3, 1, 2, 3, 1, 2, 3, 1, 2, 3, 1, 2, 3, 1, 2, 3, 1, 2, 3, 1, 2, 3, 1, 2, 3, 1, 2, 3, 1, 2, 3, 1, 2, 3, 1, 2, 3, 1, 2, 3, 1, 2, 3, 1, 2, 3, 1, 2, 3, 1, 2, 3, 1, 2, 3, 1, 2, 3, 1, 2, 3, 1, 2, 3, 1, 2, 3, 1, 2, 3, 1, 2, 3, 1, 2, 3, 1, 2, 3, 1, 2, 3, 1, 2, 3, 1, 2, 3, 1, 2, 3, 1, 2, 3, 1, 2, 3, 1, 2, 3, 1, 2, 3, 1, 2, 3, 1, 2, 3, 1, 2, 3, 1, 2, 3, 1, 2, 3, 1, 2, 3, 1, 2, 3, 1, 2, 3, 1, 2, 3, 1, 2, 3, 1, 2, 3, 1, 2, 3, 1, 2, 3, 1, 2, 3, 1, 2, 3, 1, 2, 3, 1, 2, 3, 1, 2, 3, 1, 2, 3, 1, 2, 3, 1, 2, 3, 1, 2, 3, 1, 2, 3, 1, 2, 3, 1, 2, 3, 1, 2, 3], \"Freq\": [0.30872803926467896, 0.30872803926467896, 0.3648603856563568, 0.29550081491470337, 0.5023514032363892, 0.17730048298835754, 0.5154914259910583, 0.27131128311157227, 0.1899178922176361, 0.18854407966136932, 0.6221954822540283, 0.18854407966136932, 0.4451161324977875, 0.22255806624889374, 0.33383709192276, 0.29157084226608276, 0.5158560872077942, 0.17942820489406586, 0.5157580375671387, 0.2714516222476959, 0.21716129779815674, 0.4005901515483856, 0.21083691716194153, 0.3795064687728882, 0.38287416100502014, 0.4764656126499176, 0.13613303005695343, 0.3581135869026184, 0.34254342317581177, 0.29583296179771423, 0.3722712993621826, 0.5351399779319763, 0.10470130294561386, 0.2366744726896286, 0.41418033838272095, 0.3352888524532318, 0.36450162529945374, 0.316957950592041, 0.3328058421611786, 0.28479403257369995, 0.5038663148880005, 0.1971650868654251, 0.28161928057670593, 0.3696253001689911, 0.352024108171463, 0.31267276406288147, 0.5159100294113159, 0.17197002470493317, 0.29395556449890137, 0.49746328592300415, 0.2035077065229416, 0.255408376455307, 0.39293596148490906, 0.3536423444747925, 0.38706982135772705, 0.42577680945396423, 0.18579351902008057, 0.20963720977306366, 0.6450375914573669, 0.1290075182914734, 0.5264713168144226, 0.3716267943382263, 0.10839115083217621, 0.3155694305896759, 0.3155694305896759, 0.3883931338787079, 0.5133696794509888, 0.34224647283554077, 0.1521095335483551, 0.38634347915649414, 0.2499869465827942, 0.3636173903942108, 0.43619731068611145, 0.40805554389953613, 0.15477968752384186, 0.47042542695999146, 0.31361696124076843, 0.21382974088191986, 0.5094141364097595, 0.33960941433906555, 0.14857912063598633, 0.5578587651252747, 0.27892938256263733, 0.15214329957962036, 0.29851529002189636, 0.5174265503883362, 0.17910918593406677, 0.5176903605461121, 0.3106142282485962, 0.17256346344947815, 0.5085549354553223, 0.2805820405483246, 0.21043652296066284, 0.3007044792175293, 0.5212211012840271, 0.18042269349098206, 0.3304964303970337, 0.3004513084888458, 0.36054155230522156, 0.5370080471038818, 0.2929134964942932, 0.1708662062883377, 0.2923146188259125, 0.3166741728782654, 0.3897528350353241, 0.2247588187456131, 0.5618970394134521, 0.21071140468120575, 0.28174108266830444, 0.23051543533802032, 0.46103087067604065, 0.29483655095100403, 0.5343912839889526, 0.1842728555202484, 0.27091214060783386, 0.5209848880767822, 0.20839394629001617, 0.257819801568985, 0.51563960313797, 0.21815522015094757, 0.22390316426753998, 0.4070966839790344, 0.3663870096206665, 0.3733019232749939, 0.45107316970825195, 0.17109671235084534, 0.2893402874469757, 0.534166693687439, 0.1780555695295334, 0.23749616742134094, 0.37603560090065, 0.39582696557044983, 0.5882557034492493, 0.27451932430267334, 0.11765114217996597, 0.4471275806427002, 0.4284972548484802, 0.13041220605373383, 0.5311617851257324, 0.2921389639377594, 0.18590661883354187, 0.582796037197113, 0.25902044773101807, 0.14569900929927826, 0.25272879004478455, 0.3369717001914978, 0.39313367009162903, 0.45311135053634644, 0.33983349800109863, 0.19823621213436127, 0.1889021098613739, 0.4617607295513153, 0.3568150997161865, 0.5810087323188782, 0.29681968688964844, 0.11999093741178513, 0.5373652577400208, 0.28659480810165405, 0.1612095832824707, 0.30128076672554016, 0.49300485849380493, 0.19172412157058716, 0.5293490290641785, 0.2964354455471039, 0.1693916767835617, 0.35601118206977844, 0.30515244603157043, 0.35601118206977844, 0.3193066418170929, 0.5150107145309448, 0.1648034304380417, 0.40886157751083374, 0.316538006067276, 0.29015982151031494, 0.30098655819892883, 0.5116771459579468, 0.18059194087982178, 0.5367428660392761, 0.23258857429027557, 0.21469715237617493, 0.2825855016708374, 0.4238782823085785, 0.29828470945358276, 0.3276054561138153, 0.45045751333236694, 0.2184036523103714, 0.5255847573280334, 0.3199211657047272, 0.1599605828523636, 0.5853258371353149, 0.23413033783435822, 0.17559775710105896, 0.5054707527160645, 0.22866535186767578, 0.26477038860321045, 0.5955377817153931, 0.24262650310993195, 0.15439867973327637, 0.28053566813468933, 0.517911970615387, 0.1942169964313507, 0.48507022857666016, 0.32338014245033264, 0.1778590828180313, 0.32631585001945496, 0.4030960500240326, 0.26873070001602173, 0.2780354619026184, 0.357474148273468, 0.357474148273468, 0.30073052644729614, 0.44455817341804504, 0.2484295666217804, 0.2864139676094055, 0.2527182102203369, 0.4717406630516052, 0.5257020592689514, 0.2628510296344757, 0.2253008782863617, 0.3003608286380768, 0.378715842962265, 0.31341999769210815, 0.40576300024986267, 0.2916421592235565, 0.3043222427368164, 0.3824722468852997, 0.31872686743736267, 0.3027905523777008, 0.5418350696563721, 0.27091753482818604, 0.19867286086082458, 0.22372087836265564, 0.5816742777824402, 0.17897669970989227, 0.5130888819694519, 0.26482006907463074, 0.21516631543636322, 0.5251070857048035, 0.2813073694705963, 0.2062920778989792, 0.4004365801811218, 0.3203492760658264, 0.2803056240081787, 0.2979194223880768, 0.5627366900444031, 0.13240863382816315, 0.3053199350833893, 0.3885889947414398, 0.3053199350833893, 0.34514400362968445, 0.32697850465774536, 0.34514400362968445, 0.24041201174259186, 0.4647965431213379, 0.3045218586921692, 0.28865188360214233, 0.336760550737381, 0.38486918807029724, 0.41394081711769104, 0.23881201446056366, 0.35025763511657715, 0.4756692349910736, 0.4281023144721985, 0.09513384848833084, 0.5869065523147583, 0.2445444017648697, 0.16302959620952606, 0.2813180983066559, 0.36571353673934937, 0.36571353673934937, 0.3217030465602875, 0.3724982738494873, 0.3217030465602875, 0.27621692419052124, 0.27621692419052124, 0.446196585893631, 0.6254248023033142, 0.22515292465686798, 0.1501019448041916, 0.24086089432239532, 0.541936993598938, 0.2258070856332779, 0.3760480284690857, 0.4857286810874939, 0.14101800322532654, 0.3868679702281952, 0.47096970677375793, 0.13456277549266815, 0.34112051129341125, 0.3052130937576294, 0.359074205160141, 0.5506818890571594, 0.20650571584701538, 0.24092333018779755, 0.30290907621383667, 0.2524242401123047, 0.454363614320755, 0.5182027220726013, 0.31333187222480774, 0.168717160820961, 0.4972216486930847, 0.3257659077644348, 0.1714557409286499, 0.3719353675842285, 0.2727526128292084, 0.3471396863460541, 0.27520060539245605, 0.35382935404777527, 0.3734865188598633, 0.5630954504013062, 0.23035722970962524, 0.1791667342185974, 0.22730004787445068, 0.17944741249084473, 0.5861948728561401, 0.3237694203853607, 0.30064302682876587, 0.370022177696228, 0.3639206290245056, 0.4059114456176758, 0.23794808983802795, 0.2561980187892914, 0.5977954268455505, 0.14944885671138763, 0.34975919127464294, 0.403568297624588, 0.2555932402610779, 0.503537118434906, 0.36366569995880127, 0.1258842796087265, 0.22451315820217133, 0.3955708146095276, 0.3848797082901001, 0.358264297246933, 0.30452463030815125, 0.34035107493400574, 0.5214545130729675, 0.2502981722354889, 0.22943997383117676, 0.32804304361343384, 0.5285137891769409, 0.14579690992832184, 0.31264767050743103, 0.31264767050743103, 0.3847971260547638, 0.3253297805786133, 0.3253297805786133, 0.35490521788597107, 0.3458785116672516, 0.36091670393943787, 0.2857257127761841, 0.27418527007102966, 0.37095656991004944, 0.35482800006866455, 0.488878071308136, 0.2968188226222992, 0.2095191776752472, 0.5067685842514038, 0.3040611743927002, 0.17736901342868805, 0.27368369698524475, 0.37027794122695923, 0.33807986974716187, 0.24072375893592834, 0.4814475178718567, 0.2777581810951233, 0.25922515988349915, 0.5616545081138611, 0.17281678318977356, 0.25669431686401367, 0.3850415050983429, 0.3593720495700836, 0.5209774374961853, 0.2841694951057434, 0.21312712132930756, 0.2771773338317871, 0.5774527788162231, 0.13858866691589355, 0.2805367708206177, 0.5376954674720764, 0.16364644467830658, 0.5450733304023743, 0.3066037595272064, 0.1533018797636032, 0.2826639413833618, 0.46118855476379395, 0.2529098391532898, 0.26640525460243225, 0.5032098889350891, 0.23680466413497925, 0.2449585199356079, 0.3878509998321533, 0.36743777990341187, 0.24458451569080353, 0.4433094263076782, 0.3057306408882141, 0.19615058600902557, 0.6472969651222229, 0.15692046284675598, 0.2435649186372757, 0.5358428359031677, 0.21920841932296753, 0.3175533413887024, 0.3175533413887024, 0.36291810870170593, 0.20936335623264313, 0.5024720430374146, 0.2931087017059326, 0.3456486463546753, 0.28465181589126587, 0.36598092317581177, 0.4010111689567566, 0.21105851233005524, 0.3799053132534027], \"Term\": [\"(\", \"(\", \"(\", \"(big)\", \"(big)\", \"(big)\", \"1970s\", \"1970s\", \"1970s\", \"2014\", \"2014\", \"2014\", \"2018\", \"2018\", \"2018\", \"5\", \"5\", \"5\", \"9\", \"9\", \"9\", \"949\", \"949\", \"949\", \"alaska\", \"alaska\", \"alaska\", \"america\", \"america\", \"america\", \"apf\", \"apf\", \"apf\", \"argu\", \"argu\", \"argu\", \"argument\", \"argument\", \"argument\", \"attent\", \"attent\", \"attent\", \"august\", \"august\", \"august\", \"autom\", \"autom\", \"autom\", \"awar\", \"awar\", \"awar\", \"base\", \"base\", \"base\", \"big\", \"big\", \"big\", \"bill\", \"bill\", \"bill\", \"billion\", \"billion\", \"billion\", \"busi\", \"busi\", \"busi\", \"canadian\", \"canadian\", \"canadian\", \"capit\", \"capit\", \"capit\", \"citizen\", \"citizen\", \"citizen\", \"claim\", \"claim\", \"claim\", \"communic\", \"communic\", \"communic\", \"complex\", \"complex\", \"complex\", \"comput\", \"comput\", \"comput\", \"condit\", \"condit\", \"condit\", \"confer\", \"confer\", \"confer\", \"conserv\", \"conserv\", \"conserv\", \"consumpt\", \"consumpt\", \"consumpt\", \"content\", \"content\", \"content\", \"contract\", \"contract\", \"contract\", \"cost\", \"cost\", \"cost\", \"count\", \"count\", \"count\", \"credit\", \"credit\", \"credit\", \"cultur\", \"cultur\", \"cultur\", \"cut\", \"cut\", \"cut\", \"daili\", \"daili\", \"daili\", \"definit\", \"definit\", \"definit\", \"democrat\", \"democrat\", \"democrat\", \"depress\", \"depress\", \"depress\", \"difficulti\", \"difficulti\", \"difficulti\", \"dividend\", \"dividend\", \"dividend\", \"dutch\", \"dutch\", \"dutch\", \"earli\", \"earli\", \"earli\", \"easi\", \"easi\", \"easi\", \"effect\", \"effect\", \"effect\", \"entitl\", \"entitl\", \"entitl\", \"experi\", \"experi\", \"experi\", \"experiment\", \"experiment\", \"experiment\", \"extent\", \"extent\", \"extent\", \"finland\", \"finland\", \"finland\", \"four\", \"four\", \"four\", \"fund\", \"fund\", \"fund\", \"group\", \"group\", \"group\", \"guarante_(big)\", \"guarante_(big)\", \"guarante_(big)\", \"hour\", \"hour\", \"hour\", \"human\", \"human\", \"human\", \"idea\", \"idea\", \"idea\", \"impli\", \"impli\", \"impli\", \"incom_experi\", \"incom_experi\", \"incom_experi\", \"individu\", \"individu\", \"individu\", \"influenc\", \"influenc\", \"influenc\", \"introduc\", \"introduc\", \"introduc\", \"januari\", \"januari\", \"januari\", \"job\", \"job\", \"job\", \"juli\", \"juli\", \"juli\", \"june\", \"june\", \"june\", \"justic\", \"justic\", \"justic\", \"keep\", \"keep\", \"keep\", \"labor\", \"labor\", \"labor\", \"lewi\", \"lewi\", \"lewi\", \"live\", \"live\", \"live\", \"magazin\", \"magazin\", \"magazin\", \"mainstream\", \"mainstream\", \"mainstream\", \"market\", \"market\", \"market\", \"mcfarland\", \"mcfarland\", \"mcfarland\", \"michael_lewi\", \"michael_lewi\", \"michael_lewi\", \"model\", \"model\", \"model\", \"money\", \"money\", \"money\", \"natur\", \"natur\", \"natur\", \"net\", \"net\", \"net\", \"observ\", \"observ\", \"observ\", \"octob\", \"octob\", \"octob\", \"oil\", \"oil\", \"oil\", \"onlin\", \"onlin\", \"onlin\", \"open\", \"open\", \"open\", \"organ\", \"organ\", \"organ\", \"owner\", \"owner\", \"owner\", \"particip\", \"particip\", \"particip\", \"pay\", \"pay\", \"pay\", \"perman\", \"perman\", \"perman\", \"perman_fund\", \"perman_fund\", \"perman_fund\", \"person\", \"person\", \"person\", \"play\", \"play\", \"play\", \"pleas\", \"pleas\", \"pleas\", \"polici\", \"polici\", \"polici\", \"present\", \"present\", \"present\", \"principl\", \"principl\", \"principl\", \"privat\", \"privat\", \"privat\", \"promis\", \"promis\", \"promis\", \"properti\", \"properti\", \"properti\", \"pursuit\", \"pursuit\", \"pursuit\", \"receiv\", \"receiv\", \"receiv\", \"republican\", \"republican\", \"republican\", \"resourc\", \"resourc\", \"resourc\", \"result\", \"result\", \"result\", \"right\", \"right\", \"right\", \"rule\", \"rule\", \"rule\", \"save\", \"save\", \"save\", \"senat\", \"senat\", \"senat\", \"septemb\", \"septemb\", \"septemb\", \"slight\", \"slight\", \"slight\", \"societi\", \"societi\", \"societi\", \"spend\", \"spend\", \"spend\", \"still\", \"still\", \"still\", \"surpris\", \"surpris\", \"surpris\", \"system\", \"system\", \"system\", \"tax\", \"tax\", \"tax\", \"tax_credit\", \"tax_credit\", \"tax_credit\", \"they'r\", \"they'r\", \"they'r\", \"togeth\", \"togeth\", \"togeth\", \"total\", \"total\", \"total\", \"trust\", \"trust\", \"trust\", \"understand\", \"understand\", \"understand\", \"unit\", \"unit\", \"unit\", \"vast\", \"vast\", \"vast\", \"video\", \"video\", \"video\", \"volunt\", \"volunt\", \"volunt\", \"vote\", \"vote\", \"vote\", \"we'r\", \"we'r\", \"we'r\", \"wealth\", \"wealth\", \"wealth\", \"welfar_system\", \"welfar_system\", \"welfar_system\", \"white\", \"white\", \"white\", \"written_949\", \"written_949\", \"written_949\"]}, \"R\": 30, \"lambda.step\": 0.01, \"plot.opts\": {\"xlab\": \"PC1\", \"ylab\": \"PC2\"}, \"topic.order\": [1, 3, 2]};\n",
       "\n",
       "function LDAvis_load_lib(url, callback){\n",
       "  var s = document.createElement('script');\n",
       "  s.src = url;\n",
       "  s.async = true;\n",
       "  s.onreadystatechange = s.onload = callback;\n",
       "  s.onerror = function(){console.warn(\"failed to load library \" + url);};\n",
       "  document.getElementsByTagName(\"head\")[0].appendChild(s);\n",
       "}\n",
       "\n",
       "if(typeof(LDAvis) !== \"undefined\"){\n",
       "   // already loaded: just create the visualization\n",
       "   !function(LDAvis){\n",
       "       new LDAvis(\"#\" + \"ldavis_el995213038117005607305678457\", ldavis_el995213038117005607305678457_data);\n",
       "   }(LDAvis);\n",
       "}else if(typeof define === \"function\" && define.amd){\n",
       "   // require.js is available: use it to load d3/LDAvis\n",
       "   require.config({paths: {d3: \"https://cdnjs.cloudflare.com/ajax/libs/d3/3.5.5/d3.min\"}});\n",
       "   require([\"d3\"], function(d3){\n",
       "      window.d3 = d3;\n",
       "      LDAvis_load_lib(\"https://cdn.rawgit.com/bmabey/pyLDAvis/files/ldavis.v1.0.0.js\", function(){\n",
       "        new LDAvis(\"#\" + \"ldavis_el995213038117005607305678457\", ldavis_el995213038117005607305678457_data);\n",
       "      });\n",
       "    });\n",
       "}else{\n",
       "    // require.js not available: dynamically load d3 & LDAvis\n",
       "    LDAvis_load_lib(\"https://cdnjs.cloudflare.com/ajax/libs/d3/3.5.5/d3.min.js\", function(){\n",
       "         LDAvis_load_lib(\"https://cdn.rawgit.com/bmabey/pyLDAvis/files/ldavis.v1.0.0.js\", function(){\n",
       "                 new LDAvis(\"#\" + \"ldavis_el995213038117005607305678457\", ldavis_el995213038117005607305678457_data);\n",
       "            })\n",
       "         });\n",
       "}\n",
       "</script>"
      ],
      "text/plain": [
       "<IPython.core.display.HTML object>"
      ]
     },
     "execution_count": 69,
     "metadata": {},
     "output_type": "execute_result"
    }
   ],
   "source": [
    "import pyLDAvis.gensim\n",
    "lda_display = pyLDAvis.gensim.prepare(lda_m2_3,ldacorpus_m2,id2word_m2, sort_topics= True)\n",
    "pyLDAvis.display(lda_display)"
   ]
  },
  {
   "cell_type": "markdown",
   "metadata": {},
   "source": [
    "## Saving topic scores to a file"
   ]
  },
  {
   "cell_type": "code",
   "execution_count": 61,
   "metadata": {},
   "outputs": [],
   "source": [
    "scoresperdoc=lda_m2_3.inference(ldacorpus_m2)"
   ]
  },
  {
   "cell_type": "code",
   "execution_count": 62,
   "metadata": {},
   "outputs": [
    {
     "data": {
      "text/plain": [
       "123"
      ]
     },
     "execution_count": 62,
     "metadata": {},
     "output_type": "execute_result"
    }
   ],
   "source": [
    "len(scoresperdoc[0])"
   ]
  },
  {
   "cell_type": "code",
   "execution_count": 63,
   "metadata": {},
   "outputs": [
    {
     "data": {
      "text/html": [
       "<div>\n",
       "<style scoped>\n",
       "    .dataframe tbody tr th:only-of-type {\n",
       "        vertical-align: middle;\n",
       "    }\n",
       "\n",
       "    .dataframe tbody tr th {\n",
       "        vertical-align: top;\n",
       "    }\n",
       "\n",
       "    .dataframe thead th {\n",
       "        text-align: right;\n",
       "    }\n",
       "</style>\n",
       "<table border=\"1\" class=\"dataframe\">\n",
       "  <thead>\n",
       "    <tr style=\"text-align: right;\">\n",
       "      <th></th>\n",
       "      <th>0</th>\n",
       "      <th>1</th>\n",
       "      <th>2</th>\n",
       "    </tr>\n",
       "  </thead>\n",
       "  <tbody>\n",
       "    <tr>\n",
       "      <th>0</th>\n",
       "      <td>4.966229</td>\n",
       "      <td>283.891785</td>\n",
       "      <td>521.141968</td>\n",
       "    </tr>\n",
       "    <tr>\n",
       "      <th>1</th>\n",
       "      <td>29.742079</td>\n",
       "      <td>26.868910</td>\n",
       "      <td>0.389014</td>\n",
       "    </tr>\n",
       "    <tr>\n",
       "      <th>2</th>\n",
       "      <td>0.390328</td>\n",
       "      <td>319.412292</td>\n",
       "      <td>15.197386</td>\n",
       "    </tr>\n",
       "    <tr>\n",
       "      <th>3</th>\n",
       "      <td>124.906227</td>\n",
       "      <td>0.393912</td>\n",
       "      <td>11.699858</td>\n",
       "    </tr>\n",
       "    <tr>\n",
       "      <th>4</th>\n",
       "      <td>159.150070</td>\n",
       "      <td>0.412825</td>\n",
       "      <td>3.437095</td>\n",
       "    </tr>\n",
       "  </tbody>\n",
       "</table>\n",
       "</div>"
      ],
      "text/plain": [
       "            0           1           2\n",
       "0    4.966229  283.891785  521.141968\n",
       "1   29.742079   26.868910    0.389014\n",
       "2    0.390328  319.412292   15.197386\n",
       "3  124.906227    0.393912   11.699858\n",
       "4  159.150070    0.412825    3.437095"
      ]
     },
     "execution_count": 63,
     "metadata": {},
     "output_type": "execute_result"
    }
   ],
   "source": [
    "df = pd.DataFrame.from_records(scoresperdoc[0])\n",
    "df.head()"
   ]
  },
  {
   "cell_type": "code",
   "execution_count": 67,
   "metadata": {},
   "outputs": [
    {
     "data": {
      "text/html": [
       "<div>\n",
       "<style scoped>\n",
       "    .dataframe tbody tr th:only-of-type {\n",
       "        vertical-align: middle;\n",
       "    }\n",
       "\n",
       "    .dataframe tbody tr th {\n",
       "        vertical-align: top;\n",
       "    }\n",
       "\n",
       "    .dataframe thead th {\n",
       "        text-align: right;\n",
       "    }\n",
       "</style>\n",
       "<table border=\"1\" class=\"dataframe\">\n",
       "  <thead>\n",
       "    <tr style=\"text-align: right;\">\n",
       "      <th></th>\n",
       "      <th>0</th>\n",
       "      <th>1</th>\n",
       "      <th>2</th>\n",
       "    </tr>\n",
       "  </thead>\n",
       "  <tbody>\n",
       "    <tr>\n",
       "      <th>0</th>\n",
       "      <td>0</td>\n",
       "      <td>1</td>\n",
       "      <td>1</td>\n",
       "    </tr>\n",
       "    <tr>\n",
       "      <th>1</th>\n",
       "      <td>1</td>\n",
       "      <td>1</td>\n",
       "      <td>0</td>\n",
       "    </tr>\n",
       "    <tr>\n",
       "      <th>2</th>\n",
       "      <td>0</td>\n",
       "      <td>1</td>\n",
       "      <td>1</td>\n",
       "    </tr>\n",
       "    <tr>\n",
       "      <th>3</th>\n",
       "      <td>1</td>\n",
       "      <td>0</td>\n",
       "      <td>1</td>\n",
       "    </tr>\n",
       "    <tr>\n",
       "      <th>4</th>\n",
       "      <td>1</td>\n",
       "      <td>0</td>\n",
       "      <td>0</td>\n",
       "    </tr>\n",
       "  </tbody>\n",
       "</table>\n",
       "</div>"
      ],
      "text/plain": [
       "   0  1  2\n",
       "0  0  1  1\n",
       "1  1  1  0\n",
       "2  0  1  1\n",
       "3  1  0  1\n",
       "4  1  0  0"
      ]
     },
     "execution_count": 67,
     "metadata": {},
     "output_type": "execute_result"
    }
   ],
   "source": [
    "df2 = df.applymap(lambda x: int(x>10))\n",
    "df2.head()"
   ]
  },
  {
   "cell_type": "markdown",
   "metadata": {},
   "source": [
    "## HEATMAP"
   ]
  },
  {
   "cell_type": "markdown",
   "metadata": {},
   "source": [
    "Here we can see an heatmap that represents the distribution of each topic within each of the blogposs that we have analyzed."
   ]
  },
  {
   "cell_type": "code",
   "execution_count": 65,
   "metadata": {},
   "outputs": [
    {
     "data": {
      "text/plain": [
       "<matplotlib.axes._subplots.AxesSubplot at 0x12f82fa91d0>"
      ]
     },
     "execution_count": 65,
     "metadata": {},
     "output_type": "execute_result"
    },
    {
     "data": {
      "image/png": "[encoded data removed]",
      "text/plain": [
       "<Figure size 720x1440 with 2 Axes>"
      ]
     },
     "metadata": {
      "needs_background": "light"
     },
     "output_type": "display_data"
    }
   ],
   "source": [
    "plt.figure(figsize=(10, 20))\n",
    "sns.heatmap(df)"
   ]
  }
 ],
 "metadata": {
  "kernelspec": {
   "display_name": "Python 3",
   "language": "python",
   "name": "python3"
  },
  "language_info": {
   "codemirror_mode": {
    "name": "ipython",
    "version": 3
   },
   "file_extension": ".py",
   "mimetype": "text/x-python",
   "name": "python",
   "nbconvert_exporter": "python",
   "pygments_lexer": "ipython3",
   "version": "3.7.3"
  }
 },
 "nbformat": 4,
 "nbformat_minor": 2
}
